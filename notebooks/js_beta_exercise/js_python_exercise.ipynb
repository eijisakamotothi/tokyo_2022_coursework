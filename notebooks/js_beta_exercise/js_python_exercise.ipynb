{
 "cells": [
  {
   "cell_type": "markdown",
   "id": "3c9e342a",
   "metadata": {},
   "source": [
    "# Job search\n",
    "\n",
    "Compute the continuation value as a function of $\\beta$."
   ]
  },
  {
   "cell_type": "code",
   "execution_count": 1,
   "id": "e62e9cab",
   "metadata": {
    "lines_to_next_cell": 1
   },
   "outputs": [],
   "source": [
    "import numpy as np\n",
    "from scipy.stats import betabinom\n",
    "from collections import namedtuple\n",
    "import matplotlib.pyplot as plt"
   ]
  },
  {
   "cell_type": "code",
   "execution_count": 2,
   "id": "5cd102b7",
   "metadata": {},
   "outputs": [],
   "source": [
    "def successive_approx(T,                     # Operator (callable)\n",
    "                      x_0,                   # Initial condition\n",
    "                      tolerance=1e-6,        # Error tolerance\n",
    "                      max_iter=10_000,       # Max iteration bound\n",
    "                      print_step=25,         # Print at multiples\n",
    "                      verbose=False):        \n",
    "    x = x_0\n",
    "    error = np.inf\n",
    "    k = 1\n",
    "    while error > tolerance and k <= max_iter:\n",
    "        x_new = T(x)\n",
    "        error = np.max(np.abs(x_new - x))\n",
    "        if verbose and k % print_step == 0:\n",
    "            print(f\"Completed iteration {k} with error {error}.\")\n",
    "        x = x_new\n",
    "        k += 1\n",
    "    if k < max_iter:\n",
    "        print(f\"Terminated successfully in {k} iterations.\")\n",
    "    else:\n",
    "        print(f\"Warning: Iteration hit max_iter bound {max_iter}.\")\n",
    "    return x"
   ]
  },
  {
   "cell_type": "code",
   "execution_count": 3,
   "id": "452a9f09",
   "metadata": {
    "lines_to_next_cell": 1
   },
   "outputs": [],
   "source": [
    "Model = namedtuple(\"Model\", (\"w_vals\", \"φ\", \"β\", \"c\")) "
   ]
  },
  {
   "cell_type": "code",
   "execution_count": 4,
   "id": "580a63cb",
   "metadata": {},
   "outputs": [],
   "source": [
    "def create_job_search_model(\n",
    "        n=50,        # wage grid size\n",
    "        w_min=10.0,  # lowest wage\n",
    "        w_max=60.0,  # highest wage\n",
    "        a=200,       # wage distribution parameter\n",
    "        b=100,       # wage distribution parameter\n",
    "        β=0.96,      # discount factor\n",
    "        c=10.0       # unemployment compensation\n",
    "    ):\n",
    "    w_vals = np.linspace(w_min, w_max, n+1)\n",
    "    φ = np.array([betabinom(n, a, b).pmf(k) for k in range(n+1)])\n",
    "    return Model(w_vals=w_vals, φ=φ, β=β, c=c)"
   ]
  },
  {
   "cell_type": "markdown",
   "id": "f3df0807",
   "metadata": {},
   "source": [
    "The function $g(h) = c + \\beta \\sum_{w'} \\max\\{w'/(1-\\beta), h\\} \\phi(w')$.  The fixed point is the continuation value."
   ]
  },
  {
   "cell_type": "code",
   "execution_count": 5,
   "id": "59529049",
   "metadata": {
    "lines_to_next_cell": 1
   },
   "outputs": [],
   "source": [
    "def g(h, model):\n",
    "    w_vals, φ, β, c = model.w_vals, model.φ, model.β, model.c\n",
    "    return c + β * np.maximum(w_vals / (1 - β), h) @ φ"
   ]
  },
  {
   "cell_type": "markdown",
   "id": "97cb7c77",
   "metadata": {},
   "source": [
    "Task: Plot the fixed point $h^*$ of $g$ as a function of $\\beta$.  Use the values"
   ]
  },
  {
   "cell_type": "code",
   "execution_count": 6,
   "id": "52dc2d2b",
   "metadata": {},
   "outputs": [],
   "source": [
    "betas = np.linspace(0.9, 0.99, 20) "
   ]
  },
  {
   "cell_type": "code",
   "execution_count": null,
   "id": "809fc7d5",
   "metadata": {},
   "outputs": [],
   "source": []
  }
 ],
 "metadata": {
  "jupytext": {
   "cell_metadata_filter": "-all",
   "main_language": "python",
   "notebook_metadata_filter": "-all"
  },
  "kernelspec": {
   "display_name": "Python 3 (ipykernel)",
   "language": "python",
   "name": "python3"
  },
  "language_info": {
   "codemirror_mode": {
    "name": "ipython",
    "version": 3
   },
   "file_extension": ".py",
   "mimetype": "text/x-python",
   "name": "python",
   "nbconvert_exporter": "python",
   "pygments_lexer": "ipython3",
   "version": "3.9.7"
  }
 },
 "nbformat": 4,
 "nbformat_minor": 5
}
