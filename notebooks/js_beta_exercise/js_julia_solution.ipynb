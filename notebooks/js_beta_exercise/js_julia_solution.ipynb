{
 "cells": [
  {
   "cell_type": "markdown",
   "id": "a93bf8d0",
   "metadata": {},
   "source": [
    "## Job Search\n",
    "\n",
    "Julia solution to job search exercise.  See Python code for an explanation."
   ]
  },
  {
   "cell_type": "code",
   "execution_count": 20,
   "id": "08791dc6",
   "metadata": {},
   "outputs": [],
   "source": [
    "using Distributions, PyPlot, LaTeXStrings"
   ]
  },
  {
   "cell_type": "code",
   "execution_count": 21,
   "id": "3ea1610c",
   "metadata": {
    "lines_to_next_cell": 2
   },
   "outputs": [
    {
     "data": {
      "text/plain": [
       "successive_approx (generic function with 1 method)"
      ]
     },
     "execution_count": 21,
     "metadata": {},
     "output_type": "execute_result"
    }
   ],
   "source": [
    "function successive_approx(T,                     # Operator (callable)\n",
    "                           x_0;                   # Initial condition\n",
    "                           tolerance=1e-6,        # Error tolerance\n",
    "                           max_iter=10_000,       # Max iteration bound\n",
    "                           print_step=25)         # Print at multiples\n",
    "    x = x_0\n",
    "    error = Inf\n",
    "    k = 1\n",
    "    while (error > tolerance) & (k <= max_iter)\n",
    "        x_new = T(x)\n",
    "        error = maximum(abs.(x_new - x))\n",
    "        if k % print_step == 0\n",
    "            println(\"Completed iteration $k with error $error.\")\n",
    "        end\n",
    "        x = x_new\n",
    "        k += 1\n",
    "    end\n",
    "    if k < max_iter\n",
    "        println(\"Terminated successfully in $k iterations.\")\n",
    "    else\n",
    "        println(\"Warning: Iteration hit max_iter bound $max_iter.\")\n",
    "    end\n",
    "    return x\n",
    "end"
   ]
  },
  {
   "cell_type": "code",
   "execution_count": 22,
   "id": "0dffbf1d",
   "metadata": {
    "lines_to_next_cell": 2
   },
   "outputs": [
    {
     "data": {
      "text/plain": [
       "create_job_search_model"
      ]
     },
     "execution_count": 22,
     "metadata": {},
     "output_type": "execute_result"
    }
   ],
   "source": [
    "\"Creates an instance of the job search model, stored as a NamedTuple.\"\n",
    "function create_job_search_model(;\n",
    "        n=50,        # wage grid size\n",
    "        w_min=10.0,  # lowest wage\n",
    "        w_max=60.0,  # highest wage\n",
    "        a=200,       # wage distribution parameter\n",
    "        b=100,       # wage distribution parameter\n",
    "        β=0.96,      # discount factor\n",
    "        c=10.0       # unemployment compensation\n",
    "    )\n",
    "    w_vals = collect(LinRange(w_min, w_max, n+1))\n",
    "    ϕ = pdf(BetaBinomial(n, a, b))\n",
    "    return (; n, w_vals, ϕ, β, c)\n",
    "end"
   ]
  },
  {
   "cell_type": "code",
   "execution_count": 23,
   "id": "e738f261",
   "metadata": {},
   "outputs": [
    {
     "data": {
      "text/plain": [
       "g (generic function with 1 method)"
      ]
     },
     "execution_count": 23,
     "metadata": {},
     "output_type": "execute_result"
    }
   ],
   "source": [
    "function g(h, model)\n",
    "    (; n, w_vals, ϕ, β, c) = model\n",
    "    return c + β * max.(w_vals / (1 - β), h)'ϕ\n",
    "end"
   ]
  },
  {
   "cell_type": "code",
   "execution_count": 24,
   "id": "265e288c",
   "metadata": {
    "lines_to_next_cell": 2
   },
   "outputs": [
    {
     "data": {
      "text/plain": [
       "compute_hstar_wstar (generic function with 2 methods)"
      ]
     },
     "execution_count": 24,
     "metadata": {},
     "output_type": "execute_result"
    }
   ],
   "source": [
    "function compute_hstar_wstar(model, h_init=0.0)\n",
    "    (; n, w_vals, ϕ, β, c) = model\n",
    "    h_star = successive_approx(h -> g(h, model), h_init)\n",
    "    return h_star, (1 - β) * h_star\n",
    "end"
   ]
  },
  {
   "cell_type": "code",
   "execution_count": 25,
   "id": "2e4b53f9",
   "metadata": {},
   "outputs": [
    {
     "data": {
      "text/plain": [
       "plot_fig (generic function with 1 method)"
      ]
     },
     "execution_count": 25,
     "metadata": {},
     "output_type": "execute_result"
    }
   ],
   "source": [
    "betas=LinRange(0.9, 0.99, 20)\n",
    "fs = 16\n",
    "\n",
    "function plot_fig()\n",
    "    h_vals = similar(betas)\n",
    "    for (i, β) in enumerate(betas)\n",
    "        model = create_job_search_model(β=β)\n",
    "        h, w = compute_hstar_wstar(model)\n",
    "        h_vals[i] = h\n",
    "    end\n",
    "\n",
    "    fig, ax = plt.subplots()\n",
    "    ax.plot(betas, h_vals, lw=2.0, alpha=0.7, label=L\"h^*(\\beta)\")\n",
    "    ax.legend(frameon=false, fontsize=fs)\n",
    "    ax.set_xlabel(L\"\\beta\", fontsize=fs)\n",
    "    ax.set_ylabel(\"continuation value\", fontsize=fs)\n",
    "\n",
    "    plt.show()\n",
    "\n",
    "end"
   ]
  },
  {
   "cell_type": "code",
   "execution_count": 26,
   "id": "0b9a30e4",
   "metadata": {},
   "outputs": [
    {
     "name": "stdout",
     "output_type": "stream",
     "text": [
      "Terminated successfully in 13 iterations.\n",
      "Terminated successfully in 13 iterations.\n",
      "Terminated successfully in 13 iterations.\n",
      "Terminated successfully in 13 iterations.\n",
      "Terminated successfully in 15 iterations.\n",
      "Terminated successfully in 16 iterations.\n",
      "Terminated successfully in 16 iterations.\n",
      "Terminated successfully in 16 iterations.\n",
      "Terminated successfully in 19 iterations.\n",
      "Terminated successfully in 20 iterations.\n",
      "Terminated successfully in 20 iterations.\n",
      "Terminated successfully in 21 iterations.\n",
      "Completed iteration 25 with error 7.518533493566792e-7.\n",
      "Terminated successfully in 26 iterations.\n",
      "Completed iteration 25 with error 1.266527533516637e-6.\n",
      "Terminated successfully in 27 iterations.\n",
      "Completed iteration 25 with error 1.9227807115385076e-6.\n",
      "Terminated successfully in 27 iterations.\n",
      "Completed iteration 25 with error 0.00013569420912062924.\n",
      "Terminated successfully in 36 iterations.\n",
      "Completed iteration 25 with error 0.00025813308661781775.\n",
      "Terminated successfully in 38 iterations.\n",
      "Completed iteration 25 with error 0.005671854816682753.\n",
      "Completed iteration 50 with error 9.941827556758653e-7.\n",
      "Terminated successfully in 51 iterations.\n",
      "Completed iteration 25 with error 0.015785104349561152.\n",
      "Completed iteration 50 with error 3.1211393434205092e-6.\n",
      "Terminated successfully in 55 iterations.\n",
      "Completed iteration 25 with error 0.22591792395269295.\n",
      "Completed iteration 50 with error 0.0008810656590867438.\n",
      "Completed iteration 75 with error 3.4361009966232814e-6.\n",
      "Terminated successfully in 82 iterations.\n"
     ]
    },
    {
     "name": "stderr",
     "output_type": "stream",
     "text": [
      "sys:1: UserWarning: Matplotlib is currently using agg, which is a non-GUI backend, so cannot show the figure.\n"
     ]
    },
    {
     "data": {
      "image/png": "[encoded data removed]",
      "text/plain": [
       "Figure(PyObject <Figure size 640x480 with 1 Axes>)"
      ]
     },
     "metadata": {},
     "output_type": "display_data"
    }
   ],
   "source": [
    "plot_fig()"
   ]
  },
  {
   "cell_type": "code",
   "execution_count": null,
   "id": "bd056481",
   "metadata": {},
   "outputs": [],
   "source": []
  }
 ],
 "metadata": {
  "jupytext": {
   "cell_metadata_filter": "-all",
   "main_language": "julia",
   "notebook_metadata_filter": "-all"
  },
  "kernelspec": {
   "display_name": "Julia 1.7.2",
   "language": "julia",
   "name": "julia-1.7"
  },
  "language_info": {
   "file_extension": ".jl",
   "mimetype": "application/julia",
   "name": "julia",
   "version": "1.7.2"
  }
 },
 "nbformat": 4,
 "nbformat_minor": 5
}
