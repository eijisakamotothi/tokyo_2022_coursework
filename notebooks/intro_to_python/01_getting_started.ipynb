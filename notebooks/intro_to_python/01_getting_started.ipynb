{
 "cells": [
  {
   "cell_type": "markdown",
   "id": "2d72c29a",
   "metadata": {},
   "source": [
    "# Setting up Your Python Environment\n",
    "\n",
    "Aims\n",
    "\n",
    "1. get a Python environment up and running\n",
    "1. execute simple Python commands\n",
    "1. run a sample program\n",
    "1. install the code libraries that underpin these lectures\n",
    "\n",
    "## Anaconda\n",
    "\n",
    "The [core Python package](https://www.python.org/downloads/) is easy to install but *not* what you should choose for these lectures.\n",
    "\n",
    "These lectures require the entire scientific programming ecosystem, which\n",
    "\n",
    "* the core installation doesn't provide\n",
    "* is painful to install one piece at a time.\n",
    "\n",
    "Hence the best approach for our purposes is to install a Python distribution that contains\n",
    "\n",
    "1. the core Python language **and**\n",
    "1. compatible versions of the most popular scientific libraries.\n",
    "\n",
    "The best such distribution is \n",
    "\n",
    "Anaconda is\n",
    "\n",
    "* very popular\n",
    "* cross-platform\n",
    "* comprehensive\n",
    "* completely unrelated to the [Nicki Minaj song of the same name](????)\n",
    "\n",
    "Anaconda also comes with a great package management system to organize your code libraries."
   ]
  },
  {
   "cell_type": "markdown",
   "id": "dad6be37",
   "metadata": {},
   "source": [
    "### Installing Anaconda\n",
    "\n",
    "To install Anaconda, [download](https://www.anaconda.com/download/) the binary and follow the instructions.\n",
    "\n",
    "Important points:\n",
    "\n",
    "* Install the latest version!\n",
    "* If you are asked during the installation process whether you'd like to make Anaconda your default Python installation, say yes."
   ]
  },
  {
   "cell_type": "markdown",
   "id": "f091f671",
   "metadata": {},
   "source": [
    "## Jupyter Notebooks \n",
    "\n",
    "\n",
    "[Jupyter](http://jupyter.org/) notebooks are one of the many possible ways to interact with Python and the scientific libraries.\n",
    "\n",
    "They use  a *browser-based* interface to Python with\n",
    "\n",
    "* The ability to write and execute Python commands.\n",
    "* Formatted output in the browser, including tables, figures, animation, etc.\n",
    "* The option to mix in formatted text and mathematical expressions.\n",
    "\n",
    "\n",
    "While Jupyter isn't the only way to code in Python, it's great for when you wish to\n",
    "\n",
    "* start coding in Python\n",
    "* test new ideas or interact with small pieces of code\n",
    "* share or collaborate scientific ideas with students or colleagues"
   ]
  },
  {
   "cell_type": "markdown",
   "id": "c7b5cfd1",
   "metadata": {},
   "source": [
    "### Starting the Jupyter Notebook\n",
    "\n",
    "\n",
    "* search for Jupyter in your applications menu, or\n",
    "* open up a terminal and type `jupyter notebook`"
   ]
  },
  {
   "cell_type": "markdown",
   "id": "c1caf409",
   "metadata": {},
   "source": [
    "Let's now cover some basics:\n",
    "\n",
    "\n",
    "* Running Cells\n",
    "* Modal Editing\n",
    "* Inserting Unicode \n",
    "* Tab Completion\n",
    "* On-Line Help\n",
    "* Adding rich text and LaTeX\n",
    "* Installing Libraries\n",
    "<!-- #endregion -->"
   ]
  }
 ],
 "metadata": {
  "jupyter": {
   "jupytext": {
    "text_representation": {
     "extension": ".md",
     "format_name": "myst",
     "format_version": "1.3",
     "jupytext_version": "1.13.7"
    }
   },
   "kernelspec": {
    "display_name": "Python 3",
    "language": "python",
    "name": "python3"
   }
  }
 },
 "nbformat": 4,
 "nbformat_minor": 5
}
