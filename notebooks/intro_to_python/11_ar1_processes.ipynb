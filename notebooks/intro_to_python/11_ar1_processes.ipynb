{
 "cells": [
  {
   "cell_type": "markdown",
   "id": "bf08ecae",
   "metadata": {},
   "source": [
    "# AR1 Processes\n",
    "\n",
    "\n",
    "## Overview\n",
    "\n",
    "In this lecture we are going to study a very simple class of stochastic\n",
    "models called AR(1) processes.\n",
    "\n",
    "These simple models are used again and again in economic research to represent the dynamics of series such as\n",
    "\n",
    "* labor income\n",
    "* dividends\n",
    "* productivity, etc.\n",
    "\n",
    "AR(1) also help us understand important concepts.\n",
    "\n",
    "Let's start with some imports:"
   ]
  },
  {
   "cell_type": "code",
   "execution_count": null,
   "id": "ff022df6",
   "metadata": {},
   "outputs": [],
   "source": [
    "import numpy as np\n",
    "%matplotlib inline\n",
    "import matplotlib.pyplot as plt"
   ]
  },
  {
   "cell_type": "markdown",
   "id": "36c78e04",
   "metadata": {},
   "source": [
    "## The AR(1) Model\n",
    "\n",
    "The **AR(1) model** (autoregressive model of order 1) takes the form\n",
    "\n",
    "$$\n",
    "X_{t+1} = a X_t + b + c W_{t+1}\n",
    "$$\n",
    "\n",
    "where $a, b, c$ are scalar-valued parameters.\n",
    "\n",
    "This law of motion generates a time series $\\{ X_t\\}$ as soon as we\n",
    "specify an initial condition $X_0$.\n",
    "\n",
    "This is called the **state process** and the state space is $\\mathbb R$.\n",
    "\n",
    "To make things even simpler, we will assume that\n",
    "\n",
    "* the process $\\{ W_t \\}$ is IID and standard normal,\n",
    "* the initial condition $X_0$ is drawn from the normal distribution $N(\\mu_0, v_0)$ and\n",
    "* the initial condition $X_0$ is independent of $\\{ W_t \\}$."
   ]
  },
  {
   "cell_type": "markdown",
   "id": "2523d1ca",
   "metadata": {},
   "source": [
    "### Moving Average Representation\n",
    "\n",
    "Iterating backwards from time $t$, we obtain\n",
    "\n",
    "$$\n",
    "\\begin{align}\n",
    "X_t     & = a X_{t-1} + b +  c W_t\n",
    "        \\\\\n",
    "        & = a \\left[a X_{t-2} + b + c W_{t-1} \\right] + b +  c W_t\n",
    "        \\\\\n",
    "        & = a^2 X_{t-2} + a b + a c W_{t-1} + b + c W_t\n",
    "        \\\\\n",
    "        & = a^2 \n",
    "        \\left[ a X_{t-3} + b + c W_{t-2} \\right] + a b + a c W_{t-1} + b + c W_t\n",
    "        \\\\\n",
    "        & = \\cdots\n",
    "\\end{align}\n",
    "$$\n",
    "\n",
    "If we work all the way back to time zero, we get\n",
    "\n",
    "$$\n",
    "X_t = a^t X_0 + b \\sum_{j=0}^{t-1} a^j +\n",
    "        c \\sum_{j=0}^{t-1} a^j  W_{t-j}\n",
    "$$"
   ]
  },
  {
   "cell_type": "markdown",
   "id": "ee70e7a4",
   "metadata": {},
   "source": [
    "We see that $X_t$ is a well defined random variable, the value of which depends on\n",
    "\n",
    "* the parameters,\n",
    "* the initial condition $X_0$ and\n",
    "* the shocks $W_1, \\ldots W_t$ from time $t=1$ to the present.\n",
    "\n",
    "Throughout, the symbol $\\psi_t$ will be used to refer to the\n",
    "density of this random variable $X_t$."
   ]
  },
  {
   "cell_type": "markdown",
   "id": "210ab6e8",
   "metadata": {},
   "source": [
    "### Distribution Dynamics\n",
    "\n",
    "One of the nice things about this model is that it's so easy to trace out the sequence of distributions $\\{ \\psi_t \\}$ corresponding to the time\n",
    "series $\\{ X_t\\}$.\n",
    "\n",
    "To see this, we first note that $X_t$ is normally distributed for each $t$.\n",
    "\n",
    "This is immediate from the ARMA representation because linear combinations of\n",
    "independent normal random variables are normal.\n",
    "\n",
    "Given that $X_t$ is normally distributed, we will know the full distribution\n",
    "$\\psi_t$ if we can pin down its first two moments.\n",
    "\n",
    "Let $\\mu_t$ and $v_t$ denote the mean and variance\n",
    "of $X_t$ respectively."
   ]
  },
  {
   "cell_type": "markdown",
   "id": "23480c7d",
   "metadata": {},
   "source": [
    "We can pin down these values from the ARMA expression or we can use the following\n",
    "recursions:\n",
    "\n",
    "$$\n",
    "\\mu_{t+1} = a \\mu_t + b\n",
    "\\quad \\text{and} \\quad\n",
    "v_{t+1} = a^2 v_t + c^2\n",
    "$$\n",
    "\n",
    "How did we get these expressions?\n",
    "\n",
    "What assumptions are we using?\n",
    "\n",
    "Given initial conditions $\\mu_0, v_0$, we obtain $\\mu_t, v_t$ and hence\n",
    "\n",
    "$$\n",
    "\\psi_t = N(\\mu_t, v_t)\n",
    "$$\n",
    "\n",
    "The following code uses these facts to track the sequence of marginal\n",
    "distributions $\\{ \\psi_t \\}$.\n",
    "\n",
    "The parameters are"
   ]
  },
  {
   "cell_type": "code",
   "execution_count": null,
   "id": "2eea21e7",
   "metadata": {},
   "outputs": [],
   "source": [
    "a, b, c = 0.9, 0.1, 0.5\n",
    "\n",
    "mu, v = -3.0, 0.6  # initial conditions mu_0, v_0"
   ]
  },
  {
   "cell_type": "markdown",
   "id": "f82f3991",
   "metadata": {},
   "source": [
    "Here's the sequence of distributions:"
   ]
  },
  {
   "cell_type": "code",
   "execution_count": null,
   "id": "ceabf3ae",
   "metadata": {},
   "outputs": [],
   "source": [
    "from scipy.stats import norm\n",
    "\n",
    "sim_length = 10\n",
    "grid = np.linspace(-5, 7, 120)\n",
    "\n",
    "fig, ax = plt.subplots()\n",
    "\n",
    "for t in range(sim_length):\n",
    "    mu = a * mu + b\n",
    "    v = a**2 * v + c**2\n",
    "    ax.plot(grid, norm.pdf(grid, loc=mu, scale=np.sqrt(v)),\n",
    "            label=f\"$\\psi_{t}$\",\n",
    "            alpha=0.7)\n",
    "\n",
    "ax.legend(bbox_to_anchor=[1.05,1],loc=2,borderaxespad=1)\n",
    "\n",
    "plt.show()"
   ]
  },
  {
   "cell_type": "markdown",
   "id": "acd8fb90",
   "metadata": {},
   "source": [
    "## Stationarity and Asymptotic Stability\n",
    "\n",
    "Notice that, in the figure above, the sequence $\\{ \\psi_t \\}$ seems to be converging to a limiting distribution.\n",
    "\n",
    "This is even clearer if we project forward further into the future:"
   ]
  },
  {
   "cell_type": "code",
   "execution_count": null,
   "id": "665ad94a",
   "metadata": {},
   "outputs": [],
   "source": [
    "def plot_density_seq(ax, mu_0=-3.0, v_0=0.6, sim_length=60):\n",
    "    mu, v = mu_0, v_0\n",
    "    for t in range(sim_length):\n",
    "        mu = a * mu + b\n",
    "        v = a**2 * v + c**2\n",
    "        ax.plot(grid,\n",
    "                norm.pdf(grid, loc=mu, scale=np.sqrt(v)),\n",
    "                alpha=0.5)\n",
    "\n",
    "fig, ax = plt.subplots()\n",
    "plot_density_seq(ax)\n",
    "plt.show()"
   ]
  },
  {
   "cell_type": "markdown",
   "id": "62fb0e5f",
   "metadata": {},
   "source": [
    "Moreover, the limit does not depend on the initial condition.\n",
    "\n",
    "For example, this alternative density sequence also converges to the same limit."
   ]
  },
  {
   "cell_type": "code",
   "execution_count": null,
   "id": "d97f5179",
   "metadata": {},
   "outputs": [],
   "source": [
    "fig, ax = plt.subplots()\n",
    "plot_density_seq(ax, mu_0=3.0)\n",
    "plt.show()"
   ]
  },
  {
   "cell_type": "markdown",
   "id": "86d2e76f",
   "metadata": {},
   "source": [
    "In fact it's easy to show that such convergence will occur, regardless of the initial condition, whenever $|a| < 1$.\n",
    "\n",
    "To see this, we just have to look at the dynamics of the first two moments.\n",
    "\n",
    "When $|a| < 1$, these sequences converge to the respective limits\n",
    "\n",
    "$$\n",
    "\\mu^* := \\frac{b}{1-a}\n",
    "\\quad \\text{and} \\quad\n",
    "v^* = \\frac{c^2}{1 - a^2}\n",
    "$$\n",
    "\n",
    "Hence\n",
    "\n",
    "$$\n",
    "\\psi_t \\to \\psi^* = N(\\mu^*, v^*)\n",
    "\\quad \\text{as }\n",
    "t \\to \\infty\n",
    "$$\n",
    "\n",
    "We can confirm this is valid for the sequence above using the following code."
   ]
  },
  {
   "cell_type": "code",
   "execution_count": null,
   "id": "0e967f65",
   "metadata": {},
   "outputs": [],
   "source": [
    "fig, ax = plt.subplots()\n",
    "plot_density_seq(ax, mu_0=3.0)\n",
    "\n",
    "mu_star = b / (1 - a)\n",
    "std_star = np.sqrt(c**2 / (1 - a**2))  # square root of v_star\n",
    "psi_star = norm.pdf(grid, loc=mu_star, scale=std_star)\n",
    "ax.plot(grid, psi_star, 'k-', lw=2, label=\"$\\psi^*$\")\n",
    "ax.legend()\n",
    "\n",
    "plt.show()"
   ]
  },
  {
   "cell_type": "markdown",
   "id": "68a27a26",
   "metadata": {},
   "source": [
    "As claimed, the sequence $\\{ \\psi_t \\}$ converges to $\\psi^*$.\n",
    "\n",
    "\n",
    "### Stationary Distributions\n",
    "\n",
    "A stationary distribution is a distribution that is a fixed\n",
    "point of the update rule for distributions.\n",
    "\n",
    "In other words, if $\\psi_t$ is stationary, then $\\psi_{t+j} =\n",
    "\\psi_t$ for all $j$ in $\\mathbb N$.\n",
    "\n",
    "A different way to put this, specialized to the current setting, is as follows: a\n",
    "density $\\psi$ on $\\mathbb R$ is **stationary** for the AR(1) process if\n",
    "\n",
    "$$\n",
    "X_t \\sim \\psi\n",
    "\\quad \\implies \\quad\n",
    "a X_t + b + c W_{t+1} \\sim \\psi\n",
    "$$\n",
    "\n",
    "The distribution $\\psi^*$ has this property --- checking this is an exercise.\n",
    "\n",
    "In fact, it can be shown that no other distribution on $\\mathbb R$ has this property.\n",
    "\n",
    "Thus, when $|a| < 1$, the AR(1) model has exactly one stationary density and that density is given by $\\psi^*$."
   ]
  },
  {
   "cell_type": "markdown",
   "id": "1b293497",
   "metadata": {},
   "source": [
    "## Ergodicity\n",
    "\n",
    "The concept of ergodicity is used in different ways by different authors.\n",
    "\n",
    "One way to understand it in the present setting is that a version of the Law\n",
    "of Large Numbers is valid for $\\{X_t\\}$, even though it is not IID.\n",
    "\n",
    "In particular, averages over time series converge to expectations under the\n",
    "stationary distribution.\n",
    "\n",
    "Indeed, it can be proved that, whenever $|a| < 1$, we have\n",
    "\n",
    "$$\n",
    "\\frac{1}{m} \\sum_{t = 1}^m h(X_t)  \\to\n",
    "\\int h(x) \\psi^*(x) dx\n",
    "    \\quad \\text{as } m \\to \\infty\n",
    "$$\n",
    "\n",
    "whenever the integral on the right hand side is finite and well defined."
   ]
  },
  {
   "cell_type": "markdown",
   "id": "a2de583b",
   "metadata": {},
   "source": [
    "For example, if we consider the identity function $h(x) = x$, we get\n",
    "\n",
    "$$\n",
    "\\frac{1}{m} \\sum_{t = 1}^m X_t  \\to\n",
    "\\int x \\psi^*(x) dx\n",
    "    \\quad \\text{as } m \\to \\infty\n",
    "$$\n",
    "\n",
    "In other words, the time series sample mean converges to the mean of the\n",
    "stationary distribution."
   ]
  },
  {
   "cell_type": "markdown",
   "id": "54d65458",
   "metadata": {},
   "source": [
    "As will become clear over the next few lectures, ergodicity is a very\n",
    "important concept for statistics and simulation."
   ]
  },
  {
   "cell_type": "markdown",
   "id": "a9c2d6fc",
   "metadata": {},
   "source": [
    "## Exercises\n",
    "\n",
    "### Ex. 1\n",
    "\n",
    "Let $k$ be a natural number.\n",
    "\n",
    "The $k$-th central moment of a  random variable is defined as\n",
    "\n",
    "$$\n",
    "M_k := \\mathbb E [ (X - \\mathbb E X )^k ]\n",
    "$$\n",
    "\n",
    "When that random variable is $N(\\mu, \\sigma^2)$, it is known that\n",
    "\n",
    "$$\n",
    "M_k =\n",
    "\\begin{cases}\n",
    "    0 & \\text{ if } k \\text{ is odd} \\\\\n",
    "    \\sigma^k (k-1)!! & \\text{ if } k \\text{ is even}\n",
    "\\end{cases}\n",
    "$$\n",
    "\n",
    "Here $n!!$ is the double factorial."
   ]
  },
  {
   "cell_type": "markdown",
   "id": "03876915",
   "metadata": {},
   "source": [
    "If ergodicity is valid, we should have, for any $k \\in \\mathbb N$,\n",
    "\n",
    "$$\n",
    "\\frac{1}{m} \\sum_{t = 1}^m\n",
    "    (X_t - \\mu^* )^k\n",
    "    \\approx M_k\n",
    "$$\n",
    "\n",
    "when $m$ is large.\n",
    "\n",
    "Confirm this by simulation at a range of $k$ using the default parameters from the lecture.\n",
    "\n",
    "Use a plot to visualize your results."
   ]
  },
  {
   "cell_type": "markdown",
   "id": "9421fc13",
   "metadata": {},
   "source": [
    "### Ex. 2\n",
    "\n",
    "In the lecture we discussed the following fact: for the $AR(1)$ process\n",
    "\n",
    "$$\n",
    "X_{t+1} = a X_t + b + c W_{t+1}\n",
    "$$\n",
    "\n",
    "with $\\{ W_t \\}$ iid and standard normal,\n",
    "\n",
    "$$\n",
    "\\psi_t = N(\\mu, s^2) \\implies \\psi_{t+1}\n",
    "= N(a \\mu + b, a^2 s^2 + c^2)\n",
    "$$\n",
    "\n",
    "Confirm this, at least approximately, by simulation. Let\n",
    "\n",
    "- $a = 0.9$\n",
    "- $b = 0.0$\n",
    "- $c = 0.1$\n",
    "- $\\mu = -3$\n",
    "- $s = 0.2$\n",
    "\n",
    "First, plot $\\psi_t$ and $\\psi_{t+1}$ using the true\n",
    "distributions described above.\n",
    "\n",
    "Second, plot $\\psi_{t+1}$ on the same figure (in a different\n",
    "color) as follows:\n",
    "\n",
    "1. Generate $n$ draws of $X_t$ from the $N(\\mu, s^2)$\n",
    "   distribution\n",
    "1. Update them all using the rule\n",
    "   $X_{t+1} = a X_t + b + c W_{t+1}$\n",
    "1. Use the resulting sample of $X_{t+1}$ values to produce a\n",
    "   density estimate via kernel density estimation.\n",
    "\n",
    "Try this for $n=2000$ and confirm that the\n",
    "simulation based estimate of $\\psi_{t+1}$ does converge to the\n",
    "theoretical distribution.\n",
    "\n",
    "You can use this code for the kernel density estimate."
   ]
  },
  {
   "cell_type": "code",
   "execution_count": null,
   "id": "1ceca0d7",
   "metadata": {},
   "outputs": [],
   "source": [
    "from scipy.stats import norm\n",
    "from numba import vectorize, float64\n",
    "\n",
    "@njit\n",
    "def K(x):\n",
    "    return (1/np.sqrt(2*np.pi)) * np.exp(-x**2 / 2)\n",
    "\n",
    "def kde(x_data, h=None):\n",
    "\n",
    "    if h is None:\n",
    "        c = x_data.std()\n",
    "        n = len(x_data)\n",
    "        h = 1.06 * c * n**(-1/5)\n",
    "\n",
    "    @vectorize([float64(float64)])\n",
    "    def f(x):\n",
    "        return K((x - x_data) / h).mean() * (1/h)\n",
    "\n",
    "    return f"
   ]
  },
  {
   "cell_type": "markdown",
   "id": "b3d1f74e",
   "metadata": {},
   "source": [
    "```\n",
    "solutions below\n",
    "solutions below\n",
    "solutions below\n",
    "solutions below\n",
    "solutions below\n",
    "solutions below\n",
    "solutions below\n",
    "solutions below\n",
    "solutions below\n",
    "solutions below\n",
    "solutions below\n",
    "solutions below\n",
    "solutions below\n",
    "solutions below\n",
    "solutions below\n",
    "solutions below\n",
    "solutions below\n",
    "solutions below\n",
    "solutions below\n",
    "solutions below\n",
    "solutions below\n",
    "```\n",
    "\n",
    "\n",
    "\n",
    "## Solutions\n",
    "\n",
    "### Solution to Ex. 1"
   ]
  },
  {
   "cell_type": "code",
   "execution_count": null,
   "id": "aba3c83a",
   "metadata": {},
   "outputs": [],
   "source": [
    "from numba import njit\n",
    "from scipy.special import factorial2\n",
    "\n",
    "@njit\n",
    "def sample_moments_ar1(k, m=1_000_000, mu_0=0.0, sigma_0=1.0, seed=1234):\n",
    "    np.random.seed(seed)\n",
    "    sample_sum = 0.0\n",
    "    x = mu_0 + sigma_0 * np.random.randn()\n",
    "    for t in range(m):\n",
    "        sample_sum += (x - mu_star)**k\n",
    "        x = a * x + b + c * np.random.randn()\n",
    "    return sample_sum / m\n",
    "\n",
    "def true_moments_ar1(k):\n",
    "    if k % 2 == 0:\n",
    "        return std_star**k * factorial2(k - 1)\n",
    "    else:\n",
    "        return 0\n",
    "\n",
    "k_vals = np.arange(6) + 1\n",
    "sample_moments = np.empty_like(k_vals)\n",
    "true_moments = np.empty_like(k_vals)\n",
    "\n",
    "for i, k in enumerate(k_vals):\n",
    "    sample_moments[i] = sample_moments_ar1(k)\n",
    "    true_moments[i] = true_moments_ar1(k)\n",
    "\n",
    "fig, ax = plt.subplots()\n",
    "ax.plot(k_vals, true_moments, label=\"true moments\")\n",
    "ax.plot(k_vals, sample_moments, label=\"sample moments\")\n",
    "ax.legend()\n",
    "\n",
    "plt.show()"
   ]
  },
  {
   "cell_type": "markdown",
   "id": "635f2207",
   "metadata": {},
   "source": [
    "### Solution to Ex. 2\n",
    "\n",
    "Here is our solution"
   ]
  },
  {
   "cell_type": "code",
   "execution_count": null,
   "id": "487f8127",
   "metadata": {},
   "outputs": [],
   "source": [
    "a = 0.9\n",
    "b = 0.0\n",
    "c = 0.1\n",
    "μ = -3\n",
    "s = 0.2"
   ]
  },
  {
   "cell_type": "code",
   "execution_count": null,
   "id": "6be76255",
   "metadata": {},
   "outputs": [],
   "source": [
    "μ_next = a * μ + b\n",
    "s_next = np.sqrt(a**2 * s**2 + c**2)"
   ]
  },
  {
   "cell_type": "code",
   "execution_count": null,
   "id": "cf6d27de",
   "metadata": {},
   "outputs": [],
   "source": [
    "ψ = lambda x: K((x - μ) / s)\n",
    "ψ_next = lambda x: K((x - μ_next) / s_next)"
   ]
  },
  {
   "cell_type": "code",
   "execution_count": null,
   "id": "1cf46671",
   "metadata": {},
   "outputs": [],
   "source": [
    "ψ = norm(μ, s)\n",
    "ψ_next = norm(μ_next, s_next)"
   ]
  },
  {
   "cell_type": "code",
   "execution_count": null,
   "id": "c4acf1b4",
   "metadata": {},
   "outputs": [],
   "source": [
    "n = 2000\n",
    "x_draws = ψ.rvs(n)\n",
    "x_draws_next = a * x_draws + b + c * np.random.randn(n)\n",
    "f = kde(x_draws_next)\n",
    "\n",
    "x_grid = np.linspace(μ - 1, μ + 1, 100)\n",
    "fig, ax = plt.subplots()\n",
    "\n",
    "ax.plot(x_grid, ψ.pdf(x_grid), label=\"$\\psi_t$\")\n",
    "ax.plot(x_grid, ψ_next.pdf(x_grid), label=\"$\\psi_{t+1}$\")\n",
    "ax.plot(x_grid, f(x_grid), label=\"estimate of $\\psi_{t+1}$\")\n",
    "\n",
    "ax.legend()\n",
    "plt.show()"
   ]
  },
  {
   "cell_type": "markdown",
   "id": "f5bf570c",
   "metadata": {},
   "source": [
    "The simulated distribution approximately coincides with the theoretical\n",
    "distribution, as predicted."
   ]
  }
 ],
 "metadata": {
  "kernelspec": {
   "display_name": "Python 3",
   "language": "python",
   "name": "python3"
  }
 },
 "nbformat": 4,
 "nbformat_minor": 5
}
