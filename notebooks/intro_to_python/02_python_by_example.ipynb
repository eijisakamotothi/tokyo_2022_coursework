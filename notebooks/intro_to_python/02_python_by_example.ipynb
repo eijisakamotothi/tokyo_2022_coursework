{
 "cells": [
  {
   "cell_type": "markdown",
   "id": "76feb3eb",
   "metadata": {},
   "source": [
    "# An Introductory Example\n",
    "\n",
    "\n",
    "## Overview\n",
    "\n",
    "In this lecture, we will write and then pick apart small Python programs.\n",
    "\n",
    "The objective is to introduce you to basic Python syntax and data structures.\n",
    "\n",
    "\n",
    "## The Task: Plotting a White Noise Process\n",
    "\n",
    "Suppose we want to simulate and plot the white noise\n",
    "process $\\epsilon_0, \\epsilon_1, \\ldots, \\epsilon_T$, where each draw $\\epsilon_t$ is independent standard normal.\n",
    "\n",
    "We'll do this in several different ways, each time learning something more\n",
    "about Python.\n",
    "\n",
    "We run the following command first, which helps ensure that plots appear in the\n",
    "notebook if you run it on your own machine."
   ]
  },
  {
   "cell_type": "code",
   "execution_count": null,
   "id": "9035d243",
   "metadata": {},
   "outputs": [],
   "source": [
    "%matplotlib inline"
   ]
  },
  {
   "cell_type": "markdown",
   "id": "edb643b0",
   "metadata": {},
   "source": [
    "## Version 1\n",
    "\n",
    "Here are a few lines of code that perform the task we set"
   ]
  },
  {
   "cell_type": "code",
   "execution_count": null,
   "id": "f28b1ad3",
   "metadata": {},
   "outputs": [],
   "source": [
    "import numpy as np\n",
    "import matplotlib.pyplot as plt\n",
    "\n",
    "ϵ_values = np.random.randn(100)\n",
    "plt.plot(ϵ_values)\n",
    "plt.show()"
   ]
  },
  {
   "cell_type": "markdown",
   "id": "9a38c697",
   "metadata": {},
   "source": [
    "Let's break this program down and see how it works.\n",
    "\n",
    "### Imports\n",
    "\n",
    "The first two lines of the program import functionality from external code\n",
    "libraries.\n",
    "\n",
    "The first line imports NumPy, a favorite Python package for tasks like\n",
    "\n",
    "* working with arrays (vectors and matrices)\n",
    "* common mathematical functions like `cos` and `sqrt`\n",
    "* generating random numbers\n",
    "* linear algebra, etc.\n",
    "\n",
    "After `import numpy as np` we have access to these attributes via the syntax `np.attribute`.\n",
    "\n",
    "Here's two more examples"
   ]
  },
  {
   "cell_type": "code",
   "execution_count": null,
   "id": "73a02435",
   "metadata": {},
   "outputs": [],
   "source": [
    "np.sqrt(4)"
   ]
  },
  {
   "cell_type": "code",
   "execution_count": null,
   "id": "aeb7457a",
   "metadata": {},
   "outputs": [],
   "source": [
    "np.log(4)"
   ]
  },
  {
   "cell_type": "markdown",
   "id": "148396b9",
   "metadata": {},
   "source": [
    "We could also use the following syntax:"
   ]
  },
  {
   "cell_type": "code",
   "execution_count": null,
   "id": "1f2ceba2",
   "metadata": {},
   "outputs": [],
   "source": [
    "import numpy\n",
    "\n",
    "numpy.sqrt(4)"
   ]
  },
  {
   "cell_type": "markdown",
   "id": "ae638b34",
   "metadata": {},
   "source": [
    "But the former method (using the short name `np`) is convenient and more standard.\n",
    "\n",
    "\n",
    "#### Why So Many Imports?\n",
    "\n",
    "Python programs typically require several import statements.\n",
    "\n",
    "The reason is that the core language is deliberately kept small, so that it's easy to learn and maintain.\n",
    "\n",
    "When you want to do something interesting with Python, you almost always need\n",
    "to import additional functionality."
   ]
  },
  {
   "cell_type": "markdown",
   "id": "146fd51a",
   "metadata": {},
   "source": [
    "#### Packages\n",
    "\n",
    "As stated above, NumPy is a Python *package*.\n",
    "\n",
    "Packages are used by developers to organize code they wish to share.\n",
    "\n",
    "Consider the line `ϵ_values = np.random.randn(100)`.\n",
    "\n",
    "Here `np` refers to the package NumPy, while `random` is a **subpackage** of NumPy.\n",
    "\n",
    "Subpackages are just packages that are subdirectories of another package.\n",
    "\n",
    "### Importing Names Directly\n",
    "\n",
    "Recall this code that we saw above"
   ]
  },
  {
   "cell_type": "code",
   "execution_count": null,
   "id": "5a67ccee",
   "metadata": {},
   "outputs": [],
   "source": [
    "import numpy as np\n",
    "\n",
    "np.sqrt(4)"
   ]
  },
  {
   "cell_type": "markdown",
   "id": "6c5461af",
   "metadata": {},
   "source": [
    "Here's another way to access NumPy's square root function"
   ]
  },
  {
   "cell_type": "code",
   "execution_count": null,
   "id": "9c4db2d1",
   "metadata": {},
   "outputs": [],
   "source": [
    "from numpy import sqrt\n",
    "\n",
    "sqrt(4)"
   ]
  },
  {
   "cell_type": "markdown",
   "id": "189fd3a4",
   "metadata": {},
   "source": [
    "This is also fine.\n",
    "\n",
    "The advantage is less typing if we use `sqrt` often in our code.\n",
    "\n",
    "The disadvantage is that, in a long program, these two lines might be\n",
    "separated by many other lines.\n",
    "\n",
    "Then it's harder for readers to know where `sqrt` came from, should they wish to.\n",
    "\n",
    "\n",
    "### Random Draws\n",
    "\n",
    "Returning to our program that plots white noise, the remaining three lines\n",
    "after the import statements are"
   ]
  },
  {
   "cell_type": "code",
   "execution_count": null,
   "id": "0ed08b66",
   "metadata": {},
   "outputs": [],
   "source": [
    "ϵ_values = np.random.randn(100)\n",
    "plt.plot(ϵ_values)\n",
    "plt.show()"
   ]
  },
  {
   "cell_type": "markdown",
   "id": "01426d37",
   "metadata": {},
   "source": [
    "The first line generates 100 (quasi) independent standard normals and stores\n",
    "them in `ϵ_values`.\n",
    "\n",
    "The next two lines genererate the plot.\n",
    "\n",
    "We can and will look at various ways to configure and improve this plot below.\n",
    "\n",
    "\n",
    "## Alternative Implementations\n",
    "\n",
    "Let's try writing some alternative versions of our first program,  which\n",
    "plotted IID draws from the normal distribution.\n",
    "\n",
    "The programs below are less efficient than the original one, and hence\n",
    "somewhat artificial.\n",
    "\n",
    "But they do help us illustrate some important Python syntax and semantics in a\n",
    "familiar setting.\n",
    "\n",
    "\n",
    "### A Version with a For Loop\n",
    "\n",
    "Here's a version that illustrates `for` loops and Python lists."
   ]
  },
  {
   "cell_type": "code",
   "execution_count": null,
   "id": "0eff6e70",
   "metadata": {},
   "outputs": [],
   "source": [
    "ts_length = 100\n",
    "ϵ_values = []   # empty list\n",
    "\n",
    "for i in range(ts_length):\n",
    "    e = np.random.randn()\n",
    "    ϵ_values.append(e)\n",
    "\n",
    "plt.plot(ϵ_values)\n",
    "plt.show()"
   ]
  },
  {
   "cell_type": "markdown",
   "id": "97571a98",
   "metadata": {},
   "source": [
    "How does it work?\n",
    "\n",
    "### Lists\n",
    "\n",
    "The statement `ϵ_values = []` creates an empty list.\n",
    "\n",
    "Lists are a *native Python data structure* used to group a collection of objects.\n",
    "\n",
    "For example, try"
   ]
  },
  {
   "cell_type": "code",
   "execution_count": null,
   "id": "fd1c61a9",
   "metadata": {},
   "outputs": [],
   "source": [
    "x = [10, 'foo', False]\n",
    "type(x)"
   ]
  },
  {
   "cell_type": "markdown",
   "id": "26f6fafc",
   "metadata": {},
   "source": [
    "The first element of `x` is an [integer](https://en.wikipedia.org/wiki/Integer_%28computer_science%29), the next is a [string](https://en.wikipedia.org/wiki/String_%28computer_science%29), and the third is a [Boolean value](https://en.wikipedia.org/wiki/Boolean_data_type).\n",
    "\n",
    "When adding a value to a list, we can use the syntax `list_name.append(some_value)`"
   ]
  },
  {
   "cell_type": "code",
   "execution_count": null,
   "id": "9f251479",
   "metadata": {},
   "outputs": [],
   "source": [
    "x"
   ]
  },
  {
   "cell_type": "code",
   "execution_count": null,
   "id": "7d1bdc45",
   "metadata": {},
   "outputs": [],
   "source": [
    "x.append(2.5)\n",
    "x"
   ]
  },
  {
   "cell_type": "markdown",
   "id": "13b7ce45",
   "metadata": {},
   "source": [
    "Here `append()` is what's called a *method*, which is a function \"attached to\" an object---in this case, the list `x`.\n",
    "\n",
    "* Python objects such as lists, strings, etc. all have methods that are used to manipulate the data contained in the object.\n",
    "* String objects have [string methods](https://docs.python.org/3/library/stdtypes.html#string-methods), list objects have [list methods](https://docs.python.org/3/tutorial/datastructures.html#more-on-lists), etc.\n",
    "\n",
    "Another useful list method is `pop()`"
   ]
  },
  {
   "cell_type": "code",
   "execution_count": null,
   "id": "e71fd738",
   "metadata": {},
   "outputs": [],
   "source": [
    "x"
   ]
  },
  {
   "cell_type": "code",
   "execution_count": null,
   "id": "b29d93b9",
   "metadata": {},
   "outputs": [],
   "source": [
    "x.pop()"
   ]
  },
  {
   "cell_type": "code",
   "execution_count": null,
   "id": "ab85fbf1",
   "metadata": {},
   "outputs": [],
   "source": [
    "x"
   ]
  },
  {
   "cell_type": "markdown",
   "id": "f84a2e41",
   "metadata": {},
   "source": [
    "Lists in Python are zero-based (as in C, Java or Go), so the first element is referenced by `x[0]`"
   ]
  },
  {
   "cell_type": "code",
   "execution_count": null,
   "id": "8519d238",
   "metadata": {},
   "outputs": [],
   "source": [
    "x[0]   # first element of x"
   ]
  },
  {
   "cell_type": "code",
   "execution_count": null,
   "id": "f166e622",
   "metadata": {},
   "outputs": [],
   "source": [
    "x[1]   # second element of x"
   ]
  },
  {
   "cell_type": "markdown",
   "id": "16dc49b4",
   "metadata": {},
   "source": [
    "### The For Loop\n",
    "\n",
    "Now let's consider the `for` loop"
   ]
  },
  {
   "cell_type": "code",
   "execution_count": null,
   "id": "ef19ff50",
   "metadata": {},
   "outputs": [],
   "source": [
    "for i in range(ts_length):\n",
    "    e = np.random.randn()\n",
    "    ϵ_values.append(e)"
   ]
  },
  {
   "cell_type": "markdown",
   "id": "5af2b214",
   "metadata": {},
   "source": [
    "Python executes the two indented lines `ts_length` times before moving on.\n",
    "\n",
    "These two lines are called a `code block`\n",
    "\n",
    "Questions:\n",
    "\n",
    "* How does Python know the extent of the code block?\n",
    "* What do you think of this idea?\n",
    "\n",
    "\n",
    "Remark: The Python standard for indented is 4 spaces, and that's what you should use.\n",
    "\n",
    "In our program, indentation decreases after line `ϵ_values.append(e)`, telling Python that this line marks the lower limit of the code block.\n",
    "\n",
    "Let's look at another example of a `for` loop"
   ]
  },
  {
   "cell_type": "code",
   "execution_count": null,
   "id": "52aeb9fd",
   "metadata": {},
   "outputs": [],
   "source": [
    "animals = ['dog', 'cat', 'bird']\n",
    "for animal in animals:\n",
    "    print(\"The plural of \" + animal + \" is \" + animal + \"s\")"
   ]
  },
  {
   "cell_type": "markdown",
   "id": "733be7d6",
   "metadata": {},
   "source": [
    "The Python interpreter performs the following:\n",
    "\n",
    "* For each element of the `sequence`, it \"binds\" the name `variable_name` to that element and then executes the code block.\n",
    "\n",
    "\n",
    "### While Loops\n",
    "\n",
    "For the purpose of illustration, let's modify the program above to use a `while` loop instead."
   ]
  },
  {
   "cell_type": "code",
   "execution_count": null,
   "id": "a19f56a9",
   "metadata": {},
   "outputs": [],
   "source": [
    "ts_length = 100\n",
    "ϵ_values = []\n",
    "i = 0\n",
    "while i < ts_length:\n",
    "    e = np.random.randn()\n",
    "    ϵ_values.append(e)\n",
    "    i = i + 1\n",
    "plt.plot(ϵ_values)\n",
    "plt.show()"
   ]
  },
  {
   "cell_type": "markdown",
   "id": "81db9334",
   "metadata": {},
   "source": [
    "Note that\n",
    "\n",
    "* the code block for the `while` loop is again delimited only by indentation\n",
    "* the statement  `i = i + 1` can be replaced by `i += 1`\n",
    "\n",
    "\n",
    "## Another Application\n",
    "\n",
    "Let's do one more application before we turn to exercises.\n",
    "\n",
    "In this application, we plot the balance of a bank account over time.\n",
    "\n",
    "There are no withdraws over the time period, the last date of which is denoted by $T$.\n",
    "\n",
    "The initial balance is $b_0$ and the interest rate is $r$.\n",
    "\n",
    "The balance updates from period $t$ to $t+1$ according to $b_{t+1} = (1 + r) b_t$.\n",
    "\n",
    "In the code below, we generate and plot the sequence $b_0, b_1, \\ldots, b_T$.\n",
    "\n",
    "Instead of using a Python list to store this sequence, we will use a NumPy array."
   ]
  },
  {
   "cell_type": "code",
   "execution_count": null,
   "id": "7ace112f",
   "metadata": {},
   "outputs": [],
   "source": [
    "r = 0.025         # interest rate\n",
    "T = 50            # end date\n",
    "b = np.empty(T+1) # an empty NumPy array, to store all b_t\n",
    "b[0] = 10         # initial balance\n",
    "\n",
    "for t in range(T):\n",
    "    b[t+1] = (1 + r) * b[t]\n",
    "\n",
    "plt.plot(b, label='bank balance')\n",
    "plt.legend()\n",
    "plt.show()"
   ]
  },
  {
   "cell_type": "markdown",
   "id": "28fc7b9c",
   "metadata": {},
   "source": [
    "The statement `b = np.empty(T+1)` allocates storage in memory for `T+1`\n",
    "(floating point) numbers.\n",
    "\n",
    "These numbers are filled in by the `for` loop.\n",
    "\n",
    "Allocating memory at the start is more efficient --- why?"
   ]
  },
  {
   "cell_type": "markdown",
   "id": "5cb22958",
   "metadata": {},
   "source": [
    "## Exercises"
   ]
  },
  {
   "cell_type": "markdown",
   "id": "4fefb154",
   "metadata": {},
   "source": [
    "### Ex. 1\n",
    "\n",
    "Simulate and plot the correlated time series\n",
    "\n",
    "$$\n",
    "x_{t+1} = \\alpha \\, x_t + \\epsilon_{t+1}\n",
    "\\quad \\text{where} \\quad\n",
    "x_0 = 0\n",
    "\\quad \\text{and} \\quad t = 0,\\ldots,T\n",
    "$$\n",
    "\n",
    "The sequence of shocks $\\{\\epsilon_t\\}$ is assumed to be IID and standard normal.\n",
    "\n",
    "In your solution, restrict your import statements to"
   ]
  },
  {
   "cell_type": "code",
   "execution_count": null,
   "id": "d7b5167c",
   "metadata": {},
   "outputs": [],
   "source": [
    "import numpy as np\n",
    "import matplotlib.pyplot as plt"
   ]
  },
  {
   "cell_type": "markdown",
   "id": "d5390725",
   "metadata": {},
   "source": [
    "Set $T=200$ and $\\alpha = 0.9$."
   ]
  },
  {
   "cell_type": "markdown",
   "id": "aad8188a",
   "metadata": {},
   "source": [
    "### Ex. 2\n",
    "\n",
    "Starting with your solution to exercise 1, plot three simulated time series,\n",
    "one for each of the cases $\\alpha=0$, $\\alpha=0.8$ and $\\alpha=0.98$.\n",
    "\n",
    "Use a `for` loop to step through the $\\alpha$ values.\n",
    "\n",
    "If you can, add a legend, to help distinguish between the three time series.\n",
    "\n",
    "Hints:\n",
    "\n",
    "* If you call the `plot()` function multiple times before calling `show()`, all of the lines you produce will end up on the same figure.\n",
    "* For the legend, noted that the expression `'foo' + str(42)` evaluates to `'foo42'`."
   ]
  },
  {
   "cell_type": "markdown",
   "id": "178c55ef",
   "metadata": {},
   "source": [
    "### Ex. 3\n",
    "\n",
    "Plot the time series\n",
    "\n",
    "$$\n",
    "x_{t+1} = \\alpha \\, |x_t| + \\epsilon_{t+1}\n",
    "\\quad \\text{where} \\quad\n",
    "x_0 = 0\n",
    "\\quad \\text{and} \\quad t = 0,\\ldots,T\n",
    "$$\n",
    "\n",
    "Use $T=200$, $\\alpha = 0.9$ and $\\{\\epsilon_t\\}$ as before.\n",
    "\n",
    "Search online for a function that can be used to compute the absolute value $|x_t|$."
   ]
  },
  {
   "cell_type": "markdown",
   "id": "c66fd1be",
   "metadata": {},
   "source": [
    "### Ex. 4\n",
    "\n",
    "One important aspect of essentially all programming languages is branching and\n",
    "conditions.\n",
    "\n",
    "In Python, conditions are usually implemented with if--else syntax.\n",
    "\n",
    "Here's an example, that prints -1 for each negative number in an array and 1\n",
    "for each nonnegative number"
   ]
  },
  {
   "cell_type": "code",
   "execution_count": null,
   "id": "dca88d81",
   "metadata": {},
   "outputs": [],
   "source": [
    "numbers = [-9, 2.3, -11, 0]"
   ]
  },
  {
   "cell_type": "code",
   "execution_count": null,
   "id": "5dd8e556",
   "metadata": {},
   "outputs": [],
   "source": [
    "for x in numbers:\n",
    "    if x < 0:\n",
    "        print(-1)\n",
    "    else:\n",
    "        print(1)"
   ]
  },
  {
   "cell_type": "markdown",
   "id": "9fecab34",
   "metadata": {},
   "source": [
    "Now, write a new solution to Exercise 3 that does not use an existing function\n",
    "to compute the absolute value.\n",
    "\n",
    "Replace this existing function with an if--else condition."
   ]
  },
  {
   "cell_type": "markdown",
   "id": "6b409e69",
   "metadata": {},
   "source": [
    "### Ex. 5\n",
    "\n",
    "Here's a harder exercise, that takes some thought and planning.\n",
    "\n",
    "The task is to compute an approximation to $\\pi$ using [Monte Carlo](https://en.wikipedia.org/wiki/Monte_Carlo_method).\n",
    "\n",
    "Use no imports besides"
   ]
  },
  {
   "cell_type": "code",
   "execution_count": null,
   "id": "e5ac2693",
   "metadata": {},
   "outputs": [],
   "source": [
    "import numpy as np"
   ]
  },
  {
   "cell_type": "markdown",
   "id": "54da90c9",
   "metadata": {},
   "source": [
    "Your hints are as follows:\n",
    "\n",
    "* If $U$ is a bivariate uniform random variable on the unit square $(0, 1)^2$, then the probability that $U$ lies in a subset $B$ of $(0,1)^2$ is equal to the area of $B$.\n",
    "* If $U_1,\\ldots,U_n$ are IID copies of $U$, then, as $n$ gets large, the fraction that falls in $B$, converges to the probability of landing in $B$.\n",
    "* For a circle, $area = \\pi * radius^2$."
   ]
  },
  {
   "cell_type": "markdown",
   "id": "d15c3e8e",
   "metadata": {},
   "source": [
    "```\n",
    "solutions below\n",
    "solutions below\n",
    "solutions below\n",
    "solutions below\n",
    "solutions below\n",
    "solutions below\n",
    "solutions below\n",
    "solutions below\n",
    "solutions below\n",
    "solutions below\n",
    "solutions below\n",
    "solutions below\n",
    "solutions below\n",
    "solutions below\n",
    "solutions below\n",
    "solutions below\n",
    "solutions below\n",
    "solutions below\n",
    "solutions below\n",
    "solutions below\n",
    "solutions below\n",
    "```"
   ]
  },
  {
   "cell_type": "markdown",
   "id": "49cb7aa3",
   "metadata": {},
   "source": [
    "## Solutions\n",
    "\n",
    "### Ex 1 Solution"
   ]
  },
  {
   "cell_type": "code",
   "execution_count": null,
   "id": "e82570a4",
   "metadata": {},
   "outputs": [],
   "source": [
    "α = 0.9\n",
    "T = 200\n",
    "x = np.empty(T+1)\n",
    "x[0] = 0\n",
    "\n",
    "for t in range(T):\n",
    "    x[t+1] = α * x[t] + np.random.randn()\n",
    "\n",
    "plt.plot(x)\n",
    "plt.show()"
   ]
  },
  {
   "cell_type": "markdown",
   "id": "15abdd83",
   "metadata": {},
   "source": [
    "### Ex 2 Solution"
   ]
  },
  {
   "cell_type": "code",
   "execution_count": null,
   "id": "f9d005aa",
   "metadata": {},
   "outputs": [],
   "source": [
    "α_values = [0.0, 0.8, 0.98]\n",
    "T = 200\n",
    "x = np.empty(T+1)\n",
    "\n",
    "for α in α_values:\n",
    "    x[0] = 0\n",
    "    for t in range(T):\n",
    "        x[t+1] = α * x[t] + np.random.randn()\n",
    "    plt.plot(x, label=f'$\\\\alpha = {α}$')\n",
    "\n",
    "plt.legend()\n",
    "plt.show()"
   ]
  },
  {
   "cell_type": "markdown",
   "id": "19ed720c",
   "metadata": {},
   "source": [
    "### Ex. 3 Solution\n",
    "\n",
    "Here's one solution:"
   ]
  },
  {
   "cell_type": "code",
   "execution_count": null,
   "id": "c941f0ca",
   "metadata": {},
   "outputs": [],
   "source": [
    "α = 0.9\n",
    "T = 200\n",
    "x = np.empty(T+1)\n",
    "x[0] = 0\n",
    "\n",
    "for t in range(T):\n",
    "    x[t+1] = α * np.abs(x[t]) + np.random.randn()\n",
    "\n",
    "plt.plot(x)\n",
    "plt.show()"
   ]
  },
  {
   "cell_type": "markdown",
   "id": "ec90d8be",
   "metadata": {},
   "source": [
    "### Ex. 4 Solution\n",
    "\n",
    "Here's one way:"
   ]
  },
  {
   "cell_type": "code",
   "execution_count": null,
   "id": "7a7d08fe",
   "metadata": {},
   "outputs": [],
   "source": [
    "α = 0.9\n",
    "T = 200\n",
    "x = np.empty(T+1)\n",
    "x[0] = 0\n",
    "\n",
    "for t in range(T):\n",
    "    if x[t] < 0:\n",
    "        abs_x = - x[t]\n",
    "    else:\n",
    "        abs_x = x[t]\n",
    "    x[t+1] = α * abs_x + np.random.randn()\n",
    "\n",
    "plt.plot(x)\n",
    "plt.show()"
   ]
  },
  {
   "cell_type": "markdown",
   "id": "e30ab53f",
   "metadata": {},
   "source": [
    "Here's a shorter way to write the same thing:"
   ]
  },
  {
   "cell_type": "code",
   "execution_count": null,
   "id": "a64718b1",
   "metadata": {},
   "outputs": [],
   "source": [
    "α = 0.9\n",
    "T = 200\n",
    "x = np.empty(T+1)\n",
    "x[0] = 0\n",
    "\n",
    "for t in range(T):\n",
    "    abs_x = - x[t] if x[t] < 0 else x[t]\n",
    "    x[t+1] = α * abs_x + np.random.randn()\n",
    "\n",
    "plt.plot(x)\n",
    "plt.show()"
   ]
  },
  {
   "cell_type": "markdown",
   "id": "cc0d5fc8",
   "metadata": {},
   "source": [
    "### Ex. 5 Solution\n",
    "\n",
    "\n",
    "Consider the circle of diameter 1 embedded in the unit square.\n",
    "\n",
    "Let $A$ be its area and let $r=1/2$ be its radius.\n",
    "\n",
    "If we know $\\pi$ then we can compute $A$ via\n",
    "$A = \\pi r^2$.\n",
    "\n",
    "But here the point is to compute $\\pi$, which we can do by\n",
    "$\\pi = A / r^2$.\n",
    "\n",
    "Summary: If we can estimate the area of a circle with diameter 1, then dividing\n",
    "by $r^2 = (1/2)^2 = 1/4$ gives an estimate of $\\pi$.\n",
    "\n",
    "We estimate the area by sampling bivariate uniforms and looking at the\n",
    "fraction that falls into the circle."
   ]
  },
  {
   "cell_type": "code",
   "execution_count": null,
   "id": "2e7db8e1",
   "metadata": {},
   "outputs": [],
   "source": [
    "n = 100000\n",
    "\n",
    "count = 0\n",
    "for i in range(n):\n",
    "    u, v = np.random.uniform(), np.random.uniform()\n",
    "    d = np.sqrt((u - 0.5)**2 + (v - 0.5)**2)\n",
    "    if d < 0.5:\n",
    "        count += 1\n",
    "\n",
    "area_estimate = count / n\n",
    "\n",
    "print(area_estimate * 4)  # dividing by radius**2"
   ]
  }
 ],
 "metadata": {
  "kernelspec": {
   "display_name": "Python 3",
   "language": "python",
   "name": "python3"
  }
 },
 "nbformat": 4,
 "nbformat_minor": 5
}
