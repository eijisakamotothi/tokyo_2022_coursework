{
 "cells": [
  {
   "cell_type": "markdown",
   "id": "294cc92b",
   "metadata": {},
   "source": [
    "# Python Essentials\n",
    "\n",
    "Now let's cover some core features of Python in a more systematic way."
   ]
  },
  {
   "cell_type": "markdown",
   "id": "117808b2",
   "metadata": {},
   "source": [
    "## Data Types\n",
    "\n",
    "Programs typically track a range of data types.\n",
    "\n",
    "For example, `1.5` is a floating point number, while `1` is an integer.\n",
    "\n",
    "Programs need to distinguish between these two types for various reasons.\n",
    "\n",
    "One is that they are stored in memory differently.\n",
    "\n",
    "Another is that arithmetic operations are different\n",
    "\n",
    "* For example, floating point arithmetic is implemented on most machines by a\n",
    "  specialized Floating Point Unit (FPU).\n",
    "\n",
    "In general, floats are more informative but arithmetic operations on integers\n",
    "are faster and more accurate.\n",
    "\n",
    "Python provides numerous other built-in Python data types, some of which we've already met\n",
    "\n",
    "* strings, lists, etc.\n",
    "\n",
    "Let's learn a bit more about them."
   ]
  },
  {
   "cell_type": "markdown",
   "id": "ec74b730",
   "metadata": {},
   "source": [
    "### Primitive Data Types\n",
    "\n",
    "One simple data type is **Boolean values**, which can be either `True` or `False`"
   ]
  },
  {
   "cell_type": "code",
   "execution_count": null,
   "id": "c38f943b",
   "metadata": {},
   "outputs": [],
   "source": [
    "x = True\n",
    "x"
   ]
  },
  {
   "cell_type": "markdown",
   "id": "a7936ab1",
   "metadata": {},
   "source": [
    "We can check the type of any object in memory using the `type()` function."
   ]
  },
  {
   "cell_type": "code",
   "execution_count": null,
   "id": "6e47ac69",
   "metadata": {},
   "outputs": [],
   "source": [
    "type(x)"
   ]
  },
  {
   "cell_type": "markdown",
   "id": "18236028",
   "metadata": {},
   "source": [
    "In the next line of code, the interpreter evaluates the expression on the right of = and binds y to this value"
   ]
  },
  {
   "cell_type": "code",
   "execution_count": null,
   "id": "1612b499",
   "metadata": {},
   "outputs": [],
   "source": [
    "y = 100 < 10\n",
    "y"
   ]
  },
  {
   "cell_type": "code",
   "execution_count": null,
   "id": "9d290e15",
   "metadata": {},
   "outputs": [],
   "source": [
    "type(y)"
   ]
  },
  {
   "cell_type": "markdown",
   "id": "7ac8bb1d",
   "metadata": {},
   "source": [
    "In arithmetic expressions, `True` is converted to `1` and `False` is converted `0`.\n",
    "\n",
    "This is called **Boolean arithmetic** and is often useful in programming.\n",
    "\n",
    "Here are some examples"
   ]
  },
  {
   "cell_type": "code",
   "execution_count": null,
   "id": "ab1f1deb",
   "metadata": {},
   "outputs": [],
   "source": [
    "x + y"
   ]
  },
  {
   "cell_type": "code",
   "execution_count": null,
   "id": "9d29c968",
   "metadata": {},
   "outputs": [],
   "source": [
    "x * y"
   ]
  },
  {
   "cell_type": "code",
   "execution_count": null,
   "id": "1f2ef07d",
   "metadata": {},
   "outputs": [],
   "source": [
    "True + True"
   ]
  },
  {
   "cell_type": "code",
   "execution_count": null,
   "id": "fa25c333",
   "metadata": {},
   "outputs": [],
   "source": [
    "bools = [True, True, False, True]  # List of Boolean values\n",
    "\n",
    "sum(bools)"
   ]
  },
  {
   "cell_type": "markdown",
   "id": "eeb28d8c",
   "metadata": {},
   "source": [
    "Complex numbers are another primitive data type in Python"
   ]
  },
  {
   "cell_type": "code",
   "execution_count": null,
   "id": "93476df3",
   "metadata": {},
   "outputs": [],
   "source": [
    "x = complex(1, 2)\n",
    "y = complex(2, 1)\n",
    "print(x * y)\n",
    "\n",
    "type(x)"
   ]
  },
  {
   "cell_type": "markdown",
   "id": "22361df6",
   "metadata": {},
   "source": [
    "### Containers\n",
    "\n",
    "Python has several basic types for storing collections of (possibly heterogeneous) data.\n",
    "\n",
    "We've already discussed lists.\n",
    "\n",
    "A related data type is **tuples**, which are \"immutable\" lists"
   ]
  },
  {
   "cell_type": "code",
   "execution_count": null,
   "id": "d6f48b50",
   "metadata": {},
   "outputs": [],
   "source": [
    "x = ('a', 'b')  # Parentheses instead of the square brackets\n",
    "x = 'a', 'b'    # Or no brackets --- the meaning is identical\n",
    "x"
   ]
  },
  {
   "cell_type": "code",
   "execution_count": null,
   "id": "b4f40411",
   "metadata": {},
   "outputs": [],
   "source": [
    "type(x)"
   ]
  },
  {
   "cell_type": "markdown",
   "id": "21496382",
   "metadata": {},
   "source": [
    "In Python, an object is called **immutable** if, once created, the object cannot be changed.\n",
    "\n",
    "Conversely, an object is **mutable** if it can still be altered after creation.\n",
    "\n",
    "Python lists are mutable"
   ]
  },
  {
   "cell_type": "code",
   "execution_count": null,
   "id": "9bd98080",
   "metadata": {},
   "outputs": [],
   "source": [
    "x = [1, 2]\n",
    "x[0] = 10\n",
    "x"
   ]
  },
  {
   "cell_type": "markdown",
   "id": "a72d10ad",
   "metadata": {},
   "source": [
    "But tuples are not"
   ]
  },
  {
   "cell_type": "code",
   "execution_count": null,
   "id": "13a75bbd",
   "metadata": {
    "tags": [
     "raises-exception"
    ]
   },
   "outputs": [],
   "source": [
    "x = (1, 2)\n",
    "x[0] = 10"
   ]
  },
  {
   "cell_type": "markdown",
   "id": "b7d7f155",
   "metadata": {},
   "source": [
    "We'll say more about the role of mutable and immutable data a bit later.\n",
    "\n",
    "\n",
    "## Iterating\n",
    "\n",
    "One of the most important tasks in computing is stepping through a\n",
    "sequence of data and performing a given action.\n",
    "\n",
    "One of Python's strengths is its simple, flexible interface to this kind of iteration via\n",
    "the `for` loop.\n",
    "\n",
    "### Looping over Different Objects\n",
    "\n",
    "Many Python objects are \"iterable\", in the sense that they can be looped over.\n",
    "\n",
    "To give an example, let's write the file us_cities.txt, which lists US cities and their population, to the present working directory."
   ]
  },
  {
   "cell_type": "code",
   "execution_count": null,
   "id": "9b2b32fe",
   "metadata": {},
   "outputs": [],
   "source": [
    "%%file us_cities.txt\n",
    "new york: 8244910\n",
    "los angeles: 3819702\n",
    "chicago: 2707120\n",
    "houston: 2145146\n",
    "philadelphia: 1536471\n",
    "phoenix: 1469471\n",
    "san antonio: 1359758\n",
    "san diego: 1326179\n",
    "dallas: 1223229"
   ]
  },
  {
   "cell_type": "markdown",
   "id": "8e073445",
   "metadata": {},
   "source": [
    "Suppose that we want to make the information more readable, by capitalizing names and adding commas to mark thousands.\n",
    "\n",
    "The program below reads the data in and makes the conversion:"
   ]
  },
  {
   "cell_type": "code",
   "execution_count": null,
   "id": "bf6f500d",
   "metadata": {},
   "outputs": [],
   "source": [
    "data_file = open('us_cities.txt', 'r')\n",
    "for line in data_file:\n",
    "    city, population = line.split(':')         # Tuple unpacking\n",
    "    city = city.title()                        # Capitalize city names\n",
    "    population = f'{int(population):,}'        # Add commas to numbers\n",
    "    print(city.ljust(15) + population)\n",
    "data_file.close()"
   ]
  },
  {
   "cell_type": "markdown",
   "id": "d92242bc",
   "metadata": {},
   "source": [
    "### Looping Techniques\n",
    "\n",
    "Python provides some facilities to simplify looping \n",
    "\n",
    "One is `zip()`, which is used for stepping through pairs from two sequences.\n",
    "\n",
    "For example, try running the following code"
   ]
  },
  {
   "cell_type": "code",
   "execution_count": null,
   "id": "38e7a3a0",
   "metadata": {},
   "outputs": [],
   "source": [
    "countries = ('Japan', 'Korea', 'China')\n",
    "cities = ('Tokyo', 'Seoul', 'Beijing')\n",
    "for country, city in zip(countries, cities):\n",
    "    print(f'The capital of {country} is {city}')"
   ]
  },
  {
   "cell_type": "markdown",
   "id": "3eff30f7",
   "metadata": {},
   "source": [
    "Another useful one is `enumerate()` --- here's an example"
   ]
  },
  {
   "cell_type": "code",
   "execution_count": null,
   "id": "a9e0719d",
   "metadata": {},
   "outputs": [],
   "source": [
    "countries = ('Japan', 'Korea', 'China')\n",
    "cities = ('Tokyo', 'Seoul', 'Beijing')\n",
    "for i, country in enumerate(countries):\n",
    "    print(f'The capital of {country} is {cities[i]}')"
   ]
  },
  {
   "cell_type": "markdown",
   "id": "ce7a1983",
   "metadata": {},
   "source": [
    "### List Comprehensions\n",
    "\n",
    "\n",
    "We can also simplify the code for generating the list of random draws considerably by using something called a *list comprehension*.\n",
    "\n",
    "[List comprehensions](https://en.wikipedia.org/wiki/List_comprehension) are an elegant Python tool for creating lists.\n",
    "\n",
    "Consider the following example, where the list comprehension is on the\n",
    "right-hand side of the second line"
   ]
  },
  {
   "cell_type": "code",
   "execution_count": null,
   "id": "601d1da1",
   "metadata": {},
   "outputs": [],
   "source": [
    "animals = ['dog', 'cat', 'bird']\n",
    "plurals = [animal + 's' for animal in animals]\n",
    "plurals"
   ]
  },
  {
   "cell_type": "markdown",
   "id": "bf2b519f",
   "metadata": {},
   "source": [
    "Here's another example"
   ]
  },
  {
   "cell_type": "code",
   "execution_count": null,
   "id": "8839aa90",
   "metadata": {},
   "outputs": [],
   "source": [
    "range(8)"
   ]
  },
  {
   "cell_type": "code",
   "execution_count": null,
   "id": "a988feb4",
   "metadata": {},
   "outputs": [],
   "source": [
    "doubles = [2 * x for x in range(8)]\n",
    "doubles"
   ]
  },
  {
   "cell_type": "markdown",
   "id": "9effc2ea",
   "metadata": {},
   "source": [
    "## Comparisons and Logical Operators\n",
    "\n",
    "### Comparisons\n",
    "\n",
    "\n",
    "Many different kinds of expressions evaluate to one of the Boolean values (i.e., `True` or `False`).\n",
    "\n",
    "A common type is comparisons, such as"
   ]
  },
  {
   "cell_type": "code",
   "execution_count": null,
   "id": "d15eb12c",
   "metadata": {},
   "outputs": [],
   "source": [
    "x, y = 1, 2\n",
    "x < y"
   ]
  },
  {
   "cell_type": "code",
   "execution_count": null,
   "id": "77307778",
   "metadata": {},
   "outputs": [],
   "source": [
    "x > y"
   ]
  },
  {
   "cell_type": "markdown",
   "id": "d87844e5",
   "metadata": {},
   "source": [
    "One of the nice features of Python is that we can *chain* inequalities"
   ]
  },
  {
   "cell_type": "code",
   "execution_count": null,
   "id": "3f3e2816",
   "metadata": {},
   "outputs": [],
   "source": [
    "1 < 2 < 3"
   ]
  },
  {
   "cell_type": "code",
   "execution_count": null,
   "id": "cddf026d",
   "metadata": {},
   "outputs": [],
   "source": [
    "1 <= 2 <= 3"
   ]
  },
  {
   "cell_type": "markdown",
   "id": "cd5d0d64",
   "metadata": {},
   "source": [
    "As we saw earlier, when testing for equality we use `==`"
   ]
  },
  {
   "cell_type": "code",
   "execution_count": null,
   "id": "d04b15bc",
   "metadata": {},
   "outputs": [],
   "source": [
    "x = 1    # Assignment\n",
    "x == 2   # Comparison"
   ]
  },
  {
   "cell_type": "markdown",
   "id": "c039bad7",
   "metadata": {},
   "source": [
    "For \"not equal\" use `!=`"
   ]
  },
  {
   "cell_type": "code",
   "execution_count": null,
   "id": "8c30a8a4",
   "metadata": {},
   "outputs": [],
   "source": [
    "1 != 2"
   ]
  },
  {
   "cell_type": "markdown",
   "id": "b36c83ce",
   "metadata": {},
   "source": [
    "Note that when testing conditions, we can use **any** valid Python expression"
   ]
  },
  {
   "cell_type": "code",
   "execution_count": null,
   "id": "1827ce6c",
   "metadata": {},
   "outputs": [],
   "source": [
    "x = 'yes' if 42 else 'no'\n",
    "x"
   ]
  },
  {
   "cell_type": "code",
   "execution_count": null,
   "id": "63a93bcd",
   "metadata": {},
   "outputs": [],
   "source": [
    "x = 'yes' if [] else 'no'\n",
    "x"
   ]
  },
  {
   "cell_type": "markdown",
   "id": "68406324",
   "metadata": {},
   "source": [
    "What's going on here?\n",
    "\n",
    "The rule is:\n",
    "\n",
    "* Expressions that evaluate to zero, empty sequences or containers (strings, lists, etc.) and `None` are all equivalent to `False`.\n",
    "    * for example, `[]` and `()` are equivalent to `False` in an `if` clause\n",
    "* All other values are equivalent to `True`.\n",
    "    * for example, `42` is equivalent to `True` in an `if` clause\n",
    "\n",
    "### Combining Expressions\n",
    "\n",
    "```{index} single: Python; Logical Expressions\n",
    "```\n",
    "\n",
    "We can combine expressions using `and`, `or` and `not`.\n",
    "\n",
    "These are the standard logical connectives (conjunction, disjunction and denial)"
   ]
  },
  {
   "cell_type": "code",
   "execution_count": null,
   "id": "238d046f",
   "metadata": {},
   "outputs": [],
   "source": [
    "1 < 2 and 'f' in 'foo'"
   ]
  },
  {
   "cell_type": "code",
   "execution_count": null,
   "id": "218373ef",
   "metadata": {},
   "outputs": [],
   "source": [
    "1 < 2 and 'g' in 'foo'"
   ]
  },
  {
   "cell_type": "code",
   "execution_count": null,
   "id": "087cc942",
   "metadata": {},
   "outputs": [],
   "source": [
    "1 < 2 or 'g' in 'foo'"
   ]
  },
  {
   "cell_type": "code",
   "execution_count": null,
   "id": "abf39eef",
   "metadata": {},
   "outputs": [],
   "source": [
    "not True"
   ]
  },
  {
   "cell_type": "code",
   "execution_count": null,
   "id": "14a01156",
   "metadata": {},
   "outputs": [],
   "source": [
    "not not True"
   ]
  },
  {
   "cell_type": "markdown",
   "id": "65a15fd4",
   "metadata": {},
   "source": [
    "Remember\n",
    "\n",
    "* `P and Q` is `True` if both are `True`, else `False`\n",
    "* `P or Q` is `False` if both are `False`, else `True`\n",
    "\n",
    "\n",
    "## Keyword Arguments\n",
    "\n",
    "We previously came across the statement `plt.plot(x, 'b-', label=\"white noise\")`.\n",
    "\n",
    "In this call to Matplotlib's `plot` function, notice that the last argument is passed in `name=argument` syntax.\n",
    "\n",
    "This is called a *keyword argument*, with `label` being the keyword.\n",
    "\n",
    "Non-keyword arguments are called *positional arguments*, since their meaning\n",
    "is determined by order\n",
    "\n",
    "* `plot(x, 'b-', label=\"white noise\")` is different from `plot('b-', x, label=\"white noise\")`\n",
    "\n",
    "Keyword arguments are particularly useful when a function has a lot of arguments, in which case it's hard to remember the right order.\n",
    "\n",
    "You can adopt keyword arguments in user-defined functions with no difficulty.\n",
    "\n",
    "The next example illustrates the syntax"
   ]
  },
  {
   "cell_type": "code",
   "execution_count": null,
   "id": "9d514557",
   "metadata": {},
   "outputs": [],
   "source": [
    "def f(x, a=1, b=1):\n",
    "    return a + b * x"
   ]
  },
  {
   "cell_type": "markdown",
   "id": "efa99e7c",
   "metadata": {},
   "source": [
    "The keyword argument values we supplied in the definition of `f` become the default values"
   ]
  },
  {
   "cell_type": "code",
   "execution_count": null,
   "id": "fc396d72",
   "metadata": {},
   "outputs": [],
   "source": [
    "f(2)"
   ]
  },
  {
   "cell_type": "markdown",
   "id": "33c361de",
   "metadata": {},
   "source": [
    "They can be modified as follows"
   ]
  },
  {
   "cell_type": "code",
   "execution_count": null,
   "id": "087a3df9",
   "metadata": {},
   "outputs": [],
   "source": [
    "f(2, a=4, b=5)"
   ]
  },
  {
   "cell_type": "markdown",
   "id": "01972108",
   "metadata": {},
   "source": [
    "## Coding Style and PEP8\n",
    "\n",
    "\n",
    "To learn more about the Python programming philosophy type `import this` at the prompt.\n",
    "\n",
    "Among other things, Python strongly favors consistency in programming style.\n",
    "\n",
    "The standard style is set out in [PEP8](https://www.python.org/dev/peps/pep-0008/).\n",
    "\n",
    "(Occasionally we'll deviate from PEP8 in these lectures to better match mathematical notation)"
   ]
  },
  {
   "cell_type": "markdown",
   "id": "18a5e070",
   "metadata": {},
   "source": [
    "## Exercises"
   ]
  },
  {
   "cell_type": "markdown",
   "id": "f9a120a4",
   "metadata": {},
   "source": [
    "### Ex. 1  \n",
    "\n",
    "Given two numeric lists or tuples `x_vals` and `y_vals` of equal length, compute\n",
    "their inner product using `zip()`."
   ]
  },
  {
   "cell_type": "markdown",
   "id": "154850a4",
   "metadata": {},
   "source": [
    "### Ex. 2\n",
    "\n",
    "In one line, count the number of even numbers in 0,...,99.\n",
    "\n",
    "* Hint: `x % 2` returns 0 if `x` is even, 1 otherwise."
   ]
  },
  {
   "cell_type": "markdown",
   "id": "3703f54f",
   "metadata": {},
   "source": [
    "### Ex. 3\n",
    "\n",
    "Given `pairs = ((2, 5), (4, 2), (9, 8), (12, 10))`, count the number of pairs `(a, b)`\n",
    "such that both `a` and `b` are even."
   ]
  },
  {
   "cell_type": "markdown",
   "id": "748ae634",
   "metadata": {},
   "source": [
    "### Ex. 4\n",
    "\n",
    "Write a function that takes a string as an argument and returns the number of\n",
    "capital letters in the string."
   ]
  },
  {
   "cell_type": "markdown",
   "id": "cb8e9b86",
   "metadata": {},
   "source": [
    "```\n",
    "solutions below\n",
    "solutions below\n",
    "solutions below\n",
    "solutions below\n",
    "solutions below\n",
    "solutions below\n",
    "solutions below\n",
    "solutions below\n",
    "solutions below\n",
    "solutions below\n",
    "solutions below\n",
    "solutions below\n",
    "solutions below\n",
    "solutions below\n",
    "solutions below\n",
    "solutions below\n",
    "solutions below\n",
    "solutions below\n",
    "solutions below\n",
    "solutions below\n",
    "solutions below\n",
    "```\n",
    "\n",
    "\n",
    "## Solutions\n",
    "\n",
    "### Solution to Ex. 1\n",
    "\n",
    "Here's one possible solution"
   ]
  },
  {
   "cell_type": "code",
   "execution_count": null,
   "id": "e370cb7e",
   "metadata": {},
   "outputs": [],
   "source": [
    "x_vals = [1, 2, 3]\n",
    "y_vals = [1, 1, 1]\n",
    "sum([x * y for x, y in zip(x_vals, y_vals)])"
   ]
  },
  {
   "cell_type": "markdown",
   "id": "93d3f5ef",
   "metadata": {},
   "source": [
    "This also works"
   ]
  },
  {
   "cell_type": "code",
   "execution_count": null,
   "id": "302a9fa6",
   "metadata": {},
   "outputs": [],
   "source": [
    "sum(x * y for x, y in zip(x_vals, y_vals))"
   ]
  },
  {
   "cell_type": "markdown",
   "id": "cd224624",
   "metadata": {},
   "source": [
    "### Solution to Ex. 2\n",
    "\n",
    "One solution is"
   ]
  },
  {
   "cell_type": "code",
   "execution_count": null,
   "id": "31af6f94",
   "metadata": {},
   "outputs": [],
   "source": [
    "sum([x % 2 == 0 for x in range(100)])"
   ]
  },
  {
   "cell_type": "markdown",
   "id": "8c7dd8cf",
   "metadata": {},
   "source": [
    "This also works:"
   ]
  },
  {
   "cell_type": "code",
   "execution_count": null,
   "id": "121b0b1f",
   "metadata": {},
   "outputs": [],
   "source": [
    "sum(x % 2 == 0 for x in range(100))"
   ]
  },
  {
   "cell_type": "markdown",
   "id": "c6196782",
   "metadata": {},
   "source": [
    "Some less natural alternatives that nonetheless help to illustrate the\n",
    "flexibility of list comprehensions are"
   ]
  },
  {
   "cell_type": "code",
   "execution_count": null,
   "id": "4740e64f",
   "metadata": {},
   "outputs": [],
   "source": [
    "len([x for x in range(100) if x % 2 == 0])"
   ]
  },
  {
   "cell_type": "markdown",
   "id": "cb712869",
   "metadata": {},
   "source": [
    "and"
   ]
  },
  {
   "cell_type": "code",
   "execution_count": null,
   "id": "5b91c3c5",
   "metadata": {},
   "outputs": [],
   "source": [
    "sum([1 for x in range(100) if x % 2 == 0])"
   ]
  },
  {
   "cell_type": "markdown",
   "id": "53379e4c",
   "metadata": {},
   "source": [
    "### Solution to Ex. 3\n",
    "\n",
    "Here's one possibility"
   ]
  },
  {
   "cell_type": "code",
   "execution_count": null,
   "id": "99071916",
   "metadata": {},
   "outputs": [],
   "source": [
    "pairs = ((2, 5), (4, 2), (9, 8), (12, 10))\n",
    "sum([x % 2 == 0 and y % 2 == 0 for x, y in pairs])"
   ]
  },
  {
   "cell_type": "markdown",
   "id": "db27311e",
   "metadata": {},
   "source": [
    "### Solution to Ex. 4\n",
    "\n",
    "Here's one solution:"
   ]
  },
  {
   "cell_type": "code",
   "execution_count": null,
   "id": "bc079d5b",
   "metadata": {},
   "outputs": [],
   "source": [
    "def f(string):\n",
    "    count = 0\n",
    "    for letter in string:\n",
    "        if letter == letter.upper() and letter.isalpha():\n",
    "            count += 1\n",
    "    return count\n",
    "\n",
    "f('The Rain in Spain')"
   ]
  },
  {
   "cell_type": "markdown",
   "id": "2779c270",
   "metadata": {},
   "source": [
    "An alternative, more pythonic solution:"
   ]
  },
  {
   "cell_type": "code",
   "execution_count": null,
   "id": "3f3e103c",
   "metadata": {},
   "outputs": [],
   "source": [
    "def count_uppercase_chars(s):\n",
    "    return sum([c.isupper() for c in s])\n",
    "\n",
    "count_uppercase_chars('The Rain in Spain')"
   ]
  }
 ],
 "metadata": {
  "kernelspec": {
   "display_name": "Python 3",
   "language": "python",
   "name": "python3"
  }
 },
 "nbformat": 4,
 "nbformat_minor": 5
}
