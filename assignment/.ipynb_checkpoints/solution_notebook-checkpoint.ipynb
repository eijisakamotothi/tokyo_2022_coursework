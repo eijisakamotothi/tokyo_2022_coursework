{
 "cells": [
  {
   "cell_type": "markdown",
   "id": "7802964e",
   "metadata": {},
   "source": [
    "# Assignment Solutions"
   ]
  },
  {
   "cell_type": "markdown",
   "id": "23f10aa5",
   "metadata": {},
   "source": [
    "### Q1"
   ]
  },
  {
   "cell_type": "markdown",
   "id": "11f1110f",
   "metadata": {},
   "source": [
    "The Bellman equation takes the form\n",
    "\n",
    "$$ v(z) = \\max\n",
    "    \\left\\{\n",
    "        s, w + \\frac{1}{1 + i - \\pi(z)} \\sum_{z'} v(z') Q(z, z')\n",
    "    \\right\\}\n",
    "$$"
   ]
  },
  {
   "cell_type": "markdown",
   "id": "0fbd4c86",
   "metadata": {},
   "source": [
    "The Bellman operator is defined by \n",
    "\n",
    "$$ (Tv)(z) = \\max\n",
    "    \\left\\{\n",
    "        s, w + \\frac{1}{1 + i - \\pi(z)} \\sum_{z'} v(z') Q(z, z')\n",
    "    \\right\\}\n",
    "$$\n",
    "\n",
    "As in the statement of the question, we take\n",
    "\n",
    "$$\n",
    "    L(z, z') = \\frac{1}{1 + i - \\pi(z)} \\sum_{z'} v(z') Q(z, z')\n",
    "$$\n",
    "\n",
    "With this notation, the Bellman operator can be written pointwise as\n",
    "\n",
    "$$ Tv = \\max\\{s, w + Lv\\} $$"
   ]
  },
  {
   "cell_type": "markdown",
   "id": "7b5c882d",
   "metadata": {},
   "source": [
    "### Q2\n",
    "\n",
    "The following is one possible proof of the contraction property.\n",
    "\n",
    "Recalling the elementary bound $|a \\vee x - b \\vee x| \\leq |a-b|$ and fixing $f, g$ as elements of $\\mathbb{R}^{\\mathsf Z}$, we have\n",
    "\n",
    "$$ |Tf - Tg| \\leq |Lf - Lg| = |L(f - g)| $$\n",
    "\n",
    "Using another result from the course notes, since $L \\geq 0$ we have $|Tf - Tg| \\leq L|f -g|$.\n",
    "\n",
    "Under the assumption $\\bar r = \\min_z(i - \\pi(z)) > 0$, it follows that\n",
    "\n",
    "$$ |Tf - Tg| \\leq \\frac{1}{1+\\bar r} Q |f-g| $$\n",
    "\n",
    "Letting $\\beta := 1/(1 + \\bar r)$, we get\n",
    "\n",
    "$$ |Tf - Tg| \\leq \\beta Q \\| f - g\\|_\\infty = \\beta \\| f -g\\|_\\infty $$\n",
    "\n",
    "Taking the maximum on the left hand side now gives\n",
    "\n",
    "$$ \\| Tf - Tg\\|_\\infty \\leq \\beta \\|f - g\\|_\\infty $$\n",
    "\n",
    "Hence $T$ is a contraction of modulus $\\beta$ on $\\mathbb{R}^{\\mathsf Z}$.\n"
   ]
  },
  {
   "cell_type": "markdown",
   "id": "a29a556f",
   "metadata": {},
   "source": [
    "### Imports and function definitions"
   ]
  },
  {
   "cell_type": "code",
   "execution_count": 147,
   "id": "82348408",
   "metadata": {},
   "outputs": [],
   "source": [
    "import numpy as np \n",
    "import matplotlib.pyplot as plt\n",
    "from collections import namedtuple\n",
    "import quantecon as qe\n",
    "from numba import njit, int64"
   ]
  },
  {
   "cell_type": "code",
   "execution_count": 93,
   "id": "1a809f20",
   "metadata": {},
   "outputs": [],
   "source": [
    "def successive_approx(T,                     # Operator (callable)\n",
    "                      x_0,                   # Initial condition\n",
    "                      tolerance=1e-6,        # Error tolerance\n",
    "                      max_iter=10_000,       # Max iteration bound\n",
    "                      print_step=25,         # Print at multiples\n",
    "                      verbose=False):        \n",
    "    x = x_0\n",
    "    error = np.inf\n",
    "    k = 1\n",
    "    while error > tolerance and k <= max_iter:\n",
    "        x_new = T(x)\n",
    "        error = np.max(np.abs(x_new - x))\n",
    "        if verbose and k % print_step == 0:\n",
    "            print(f\"Completed iteration {k} with error {error}.\")\n",
    "        x = x_new\n",
    "        k += 1\n",
    "    if k < max_iter:\n",
    "        print(f\"Terminated successfully in {k} iterations.\")\n",
    "    else:\n",
    "        print(f\"Warning: Iteration hit max_iter bound {max_iter}.\")\n",
    "    return x"
   ]
  },
  {
   "cell_type": "code",
   "execution_count": 94,
   "id": "ec562032",
   "metadata": {},
   "outputs": [],
   "source": [
    "Model = namedtuple(\"Model\", (\"s\", \"w\", \"i\", \"z_vals\", \"Q\", \"L\"))"
   ]
  },
  {
   "cell_type": "code",
   "execution_count": 95,
   "id": "e122d435",
   "metadata": {},
   "outputs": [],
   "source": [
    "def create_retirement_model(s=100,\n",
    "                            w=5.0,\n",
    "                            i=0.1,\n",
    "                            ρ=0.9,\n",
    "                            ν=0.01,\n",
    "                            p=0.06,\n",
    "                            n=100):\n",
    "    # set up Markov chain\n",
    "    mc = qe.tauchen(ρ, ν, m=10, n=n)\n",
    "    Q, z_vals = mc.P, mc.state_values\n",
    "    # build L matrix\n",
    "    L = np.empty((n, n))\n",
    "    for j, z in enumerate(z_vals):\n",
    "        for k, zp in enumerate(z_vals):\n",
    "            L[j, k] = (1/(1 + i - (p + z))) * Q[j, k]\n",
    "    # return data\n",
    "    return Model(s=s, w=w, i=i, z_vals=z_vals, Q=Q, L=L)"
   ]
  },
  {
   "cell_type": "code",
   "execution_count": 96,
   "id": "bda8ad99",
   "metadata": {},
   "outputs": [],
   "source": [
    "def compute_spec_rad(A):\n",
    "    return np.max(np.abs(np.linalg.eigvals(A)))"
   ]
  },
  {
   "cell_type": "code",
   "execution_count": 97,
   "id": "af5ff423",
   "metadata": {},
   "outputs": [],
   "source": [
    "def T(v, model):\n",
    "    s, w, i, z_vals, Q, L = \\\n",
    "        model.s, model.w, model.i, model.z_vals, model.Q, model.L\n",
    "    return np.maximum(s, w + L @ v)\n",
    "    "
   ]
  },
  {
   "cell_type": "code",
   "execution_count": 98,
   "id": "83531533",
   "metadata": {},
   "outputs": [],
   "source": [
    "def vfi(model):\n",
    "    s, w, i, z_vals, Q, L = \\\n",
    "        model.s, model.w, model.i, model.z_vals, model.Q, model.L\n",
    "    v_init = np.zeros(len(z_vals))\n",
    "    v_star = successive_approx(lambda v: T(v, model), v_init)\n",
    "    return v_star"
   ]
  },
  {
   "cell_type": "code",
   "execution_count": 100,
   "id": "bb15c274",
   "metadata": {},
   "outputs": [],
   "source": [
    "def get_greedy(v, model):\n",
    "    s, w, i, z_vals, Q, L = \\\n",
    "        model.s, model.w, model.i, model.z_vals, model.Q, model.L\n",
    "    return s >= w + L @ v"
   ]
  },
  {
   "cell_type": "markdown",
   "id": "c8e5c4f7",
   "metadata": {},
   "source": [
    "### Q3"
   ]
  },
  {
   "cell_type": "markdown",
   "id": "4f0cd171",
   "metadata": {},
   "source": [
    "Create and instance of the model and compute the spectral radius."
   ]
  },
  {
   "cell_type": "code",
   "execution_count": 101,
   "id": "94d15116",
   "metadata": {},
   "outputs": [
    {
     "data": {
      "text/plain": [
       "0.9663618250043411"
      ]
     },
     "execution_count": 101,
     "metadata": {},
     "output_type": "execute_result"
    }
   ],
   "source": [
    "model = create_retirement_model()\n",
    "s, w, i, z_vals, Q, L = \\\n",
    "        model.s, model.w, model.i, model.z_vals, model.Q, model.L\n",
    "compute_spec_rad(model.L)"
   ]
  },
  {
   "cell_type": "markdown",
   "id": "1f51730e",
   "metadata": {},
   "source": [
    "### Q4"
   ]
  },
  {
   "cell_type": "markdown",
   "id": "15771fee",
   "metadata": {},
   "source": [
    "Solve the model by value function iteration:"
   ]
  },
  {
   "cell_type": "code",
   "execution_count": 102,
   "id": "ce4fa2a7",
   "metadata": {},
   "outputs": [
    {
     "name": "stdout",
     "output_type": "stream",
     "text": [
      "Terminated successfully in 475 iterations.\n"
     ]
    }
   ],
   "source": [
    "v_star = vfi(model)"
   ]
  },
  {
   "cell_type": "markdown",
   "id": "c109d515",
   "metadata": {},
   "source": [
    "And now plot."
   ]
  },
  {
   "cell_type": "code",
   "execution_count": 103,
   "id": "9fc00dfb",
   "metadata": {},
   "outputs": [
    {
     "data": {
      "image/png": "[encoded data removed]",
      "text/plain": [
       "<Figure size 432x288 with 1 Axes>"
      ]
     },
     "metadata": {
      "needs_background": "light"
     },
     "output_type": "display_data"
    }
   ],
   "source": [
    "fig, ax = plt.subplots()\n",
    "ax.plot(z_vals, v_star, label=\"$v^*$\")\n",
    "ax.plot(z_vals, s * np.ones_like(z_vals), label=\"s\")\n",
    "ax.legend()\n",
    "plt.show()"
   ]
  },
  {
   "cell_type": "markdown",
   "id": "956e0766",
   "metadata": {},
   "source": [
    "### Q5"
   ]
  },
  {
   "cell_type": "markdown",
   "id": "37d91513",
   "metadata": {},
   "source": [
    "Here is a plot of the optimal policy."
   ]
  },
  {
   "cell_type": "code",
   "execution_count": 104,
   "id": "fa6ab05e",
   "metadata": {},
   "outputs": [
    {
     "data": {
      "image/png": "[encoded data removed]",
      "text/plain": [
       "<Figure size 432x288 with 1 Axes>"
      ]
     },
     "metadata": {
      "needs_background": "light"
     },
     "output_type": "display_data"
    }
   ],
   "source": [
    "fig, ax = plt.subplots()\n",
    "σ_star = get_greedy(v_star, model)\n",
    "ax.plot(z_vals, σ_star, label=\"$v^*$-greedy policy\")\n",
    "ax.legend()\n",
    "plt.show()"
   ]
  },
  {
   "cell_type": "markdown",
   "id": "efd2549e",
   "metadata": {},
   "source": [
    "The optimal policy is decreasing, indicating that there is a threshold level $z^*$ of $z$ at which the optimal choice switches.  When $Z_t \\leq z^*$, the worker chooses to retire.  When $Z_t > z^*$, the worker continues working.  Intuitively, high $z$ indicates high current and future inflation, since $\\rho > 0$.  Hence high $z$ predicts low real interest rates.  As a result, the net present value of continuing to work increases.  Therefore, the worker prefers to retire only at low inflation rates."
   ]
  },
  {
   "cell_type": "markdown",
   "id": "f231973f",
   "metadata": {},
   "source": [
    "### Q6"
   ]
  },
  {
   "cell_type": "markdown",
   "id": "aae04665",
   "metadata": {},
   "source": [
    "Recall that Bellman operator is defined by \n",
    "\n",
    "$$ (Tv)(z) = \\max\n",
    "    \\left\\{\n",
    "        s, w + \\frac{1}{1 + i - \\pi(z)} \\sum_{z'} v(z') Q(z, z')\n",
    "    \\right\\}\n",
    "$$\n",
    "\n",
    "Let $i\\mathbb{R}^\\mathsf{Z}$ be the increasing functions in $\\mathbb{R}^\\mathsf{Z}$.  Suppose $v \\in i\\mathbb{R}^\\mathsf{Z}$.  Since $\\rho > 0$, the Markov matrix $Q$ is monotone increasing, and hence $Qv$ is again in $i\\mathbb{R}^\\mathsf{Z}$.  Since $\\pi(z) = p - z$, it now follows that $Tv$ is also increasing.\n",
    "Hence $T$ is invariant on the closed nonempty set $i\\mathbb{R}^\\mathsf{Z}$, from which it follows that $v^*$ is also in this set.  In other words, $v^*$ is increasing.\n",
    "\n",
    "Intuitively, high inflation leads to a low real interest rate and a large discount factor.  As a result, the continuation value increases in $z$.  Since $v^*$ is the max of $s$ and the continuation value fuction, $v^*$ also increases in $z$."
   ]
  },
  {
   "cell_type": "markdown",
   "id": "2c803717",
   "metadata": {},
   "source": [
    "### Q7"
   ]
  },
  {
   "cell_type": "code",
   "execution_count": 105,
   "id": "124af953",
   "metadata": {},
   "outputs": [],
   "source": [
    "from quantecon.random.utilities import draw\n",
    "Q_cdf = np.cumsum(Q, axis=1)\n",
    "\n",
    "@njit\n",
    "def update_Z(i):\n",
    "    return draw(Q_cdf[i, :])\n",
    "    "
   ]
  },
  {
   "cell_type": "code",
   "execution_count": 171,
   "id": "b6f8a4a1",
   "metadata": {},
   "outputs": [],
   "source": [
    "@njit\n",
    "def compute_mean_retirement_date(σ_star, \n",
    "                                 num_sims=100_000, \n",
    "                                 max_sim_length=10_000):\n",
    "\n",
    "    retire_dates = np.empty(num_sims, dtype=int64)\n",
    "    for i in range(num_sims):  \n",
    "        t = 0\n",
    "        z_index = 40\n",
    "        while t < max_sim_length:\n",
    "            if σ_star[z_index]:\n",
    "                retire_dates[i] = t\n",
    "                break\n",
    "            t += 1\n",
    "            z_index = update_Z(z_index)\n",
    "    return retire_dates.mean() / 12\n",
    "    "
   ]
  },
  {
   "cell_type": "code",
   "execution_count": 179,
   "id": "437377b8",
   "metadata": {},
   "outputs": [
    {
     "name": "stdout",
     "output_type": "stream",
     "text": [
      "Terminated successfully in 475 iterations.\n"
     ]
    }
   ],
   "source": [
    "model = create_retirement_model()\n",
    "v_star = vfi(model)\n",
    "σ_star = get_greedy(v_star, model)"
   ]
  },
  {
   "cell_type": "markdown",
   "id": "3d47c956",
   "metadata": {},
   "source": [
    "The result below gives the approximate mean time to retirement in years under the default parameters."
   ]
  },
  {
   "cell_type": "code",
   "execution_count": 180,
   "id": "b7c395c1",
   "metadata": {},
   "outputs": [
    {
     "data": {
      "text/plain": [
       "24.4446125"
      ]
     },
     "execution_count": 180,
     "metadata": {},
     "output_type": "execute_result"
    }
   ],
   "source": [
    "compute_mean_retirement_date(σ_star)"
   ]
  },
  {
   "cell_type": "markdown",
   "id": "22a31897",
   "metadata": {},
   "source": [
    "### Q8"
   ]
  },
  {
   "cell_type": "markdown",
   "id": "fcb47a24",
   "metadata": {},
   "source": [
    "Here is the result."
   ]
  },
  {
   "cell_type": "code",
   "execution_count": 181,
   "id": "17035e5b",
   "metadata": {},
   "outputs": [],
   "source": [
    "model = create_retirement_model(w=4.9)"
   ]
  },
  {
   "cell_type": "code",
   "execution_count": 182,
   "id": "082a64e1",
   "metadata": {
    "scrolled": true
   },
   "outputs": [
    {
     "name": "stdout",
     "output_type": "stream",
     "text": [
      "Terminated successfully in 466 iterations.\n"
     ]
    }
   ],
   "source": [
    "v_star = vfi(model)\n",
    "σ_star = get_greedy(v_star, model)"
   ]
  },
  {
   "cell_type": "code",
   "execution_count": 183,
   "id": "c926d3a3",
   "metadata": {},
   "outputs": [
    {
     "data": {
      "text/plain": [
       "13.551411666666667"
      ]
     },
     "execution_count": 183,
     "metadata": {},
     "output_type": "execute_result"
    }
   ],
   "source": [
    "compute_mean_retirement_date(σ_star)"
   ]
  },
  {
   "cell_type": "markdown",
   "id": "3e2cf36a",
   "metadata": {},
   "source": [
    "The average length of time until retirement decreases.  This is because wages have fallen, decreasing the continuation value while keeping the stopping value unchanged.  Hence the threshold level of $z$ for retirement increases, and stopping occurs earlier.  "
   ]
  },
  {
   "cell_type": "code",
   "execution_count": null,
   "id": "c0e0cb3b",
   "metadata": {},
   "outputs": [],
   "source": []
  }
 ],
 "metadata": {
  "kernelspec": {
   "display_name": "Python 3 (ipykernel)",
   "language": "python",
   "name": "python3"
  },
  "language_info": {
   "codemirror_mode": {
    "name": "ipython",
    "version": 3
   },
   "file_extension": ".py",
   "mimetype": "text/x-python",
   "name": "python",
   "nbconvert_exporter": "python",
   "pygments_lexer": "ipython3",
   "version": "3.9.7"
  }
 },
 "nbformat": 4,
 "nbformat_minor": 5
}
